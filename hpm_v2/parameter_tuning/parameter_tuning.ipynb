{
 "cells": [
  {
   "cell_type": "markdown",
   "metadata": {},
   "source": [
    "# Parameter Tuning"
   ]
  },
  {
   "cell_type": "code",
   "execution_count": 1,
   "metadata": {
    "collapsed": true
   },
   "outputs": [],
   "source": [
    "import pandas as pd\n",
    "import matplotlib.pyplot as plt\n",
    "%matplotlib inline\n",
    "import numpy as np\n"
   ]
  },
  {
   "cell_type": "code",
   "execution_count": 8,
   "metadata": {
    "collapsed": true
   },
   "outputs": [],
   "source": [
    "xgb_df = pd.read_pickle(\"xgb_gridcv_4.pkl\")\n",
    "lgbm_df = pd.read_pickle(\"lgbm_gridcv_4.pkl\")"
   ]
  },
  {
   "cell_type": "code",
   "execution_count": 17,
   "metadata": {
    "collapsed": false
   },
   "outputs": [
    {
     "data": {
      "text/plain": [
       "mean_fit_time                                                    908.998\n",
       "mean_score_time                                                 0.780687\n",
       "mean_test_score                                               -0.0529571\n",
       "mean_train_score                                              -0.0502095\n",
       "param_base_score                                              0.00762755\n",
       "param_learning_rate                                                 0.03\n",
       "param_max_depth                                                        6\n",
       "param_n_estimators                                                   235\n",
       "param_objective                                               reg:linear\n",
       "param_reg_alpha                                                      0.2\n",
       "param_reg_lambda                                                     0.8\n",
       "param_silent                                                        True\n",
       "param_subsample                                                      0.6\n",
       "params                 {u'reg_alpha': 0.2, u'silent': True, u'learnin...\n",
       "rank_test_score                                                       21\n",
       "split0_test_score                                             -0.0541373\n",
       "split0_train_score                                            -0.0491985\n",
       "split1_test_score                                             -0.0517768\n",
       "split1_train_score                                            -0.0512204\n",
       "std_fit_time                                                     12.8583\n",
       "std_score_time                                                  0.100448\n",
       "std_test_score                                                0.00118023\n",
       "std_train_score                                               0.00101095\n",
       "Name: 12, dtype: object"
      ]
     },
     "execution_count": 17,
     "metadata": {},
     "output_type": "execute_result"
    }
   ],
   "source": [
    "xgb_df.sort_values('mean_test_score',ascending=False)\n",
    "xgb_df.iloc[12]"
   ]
  },
  {
   "cell_type": "code",
   "execution_count": null,
   "metadata": {
    "collapsed": true
   },
   "outputs": [],
   "source": []
  },
  {
   "cell_type": "code",
   "execution_count": 26,
   "metadata": {
    "collapsed": false
   },
   "outputs": [],
   "source": [
    "df = xgb_df[['mean_test_score','param_learning_rate','param_max_depth','param_reg_alpha','param_reg_lambda','param_subsample']]\n",
    "df_norm = (df - df.min()) / (df.max() - df.min())"
   ]
  },
  {
   "cell_type": "code",
   "execution_count": 27,
   "metadata": {
    "collapsed": false
   },
   "outputs": [
    {
     "data": {
      "text/html": [
       "<div>\n",
       "<style>\n",
       "    .dataframe thead tr:only-child th {\n",
       "        text-align: right;\n",
       "    }\n",
       "\n",
       "    .dataframe thead th {\n",
       "        text-align: left;\n",
       "    }\n",
       "\n",
       "    .dataframe tbody tr th {\n",
       "        vertical-align: top;\n",
       "    }\n",
       "</style>\n",
       "<table border=\"1\" class=\"dataframe\">\n",
       "  <thead>\n",
       "    <tr style=\"text-align: right;\">\n",
       "      <th></th>\n",
       "      <th>mean_test_score</th>\n",
       "      <th>param_learning_rate</th>\n",
       "      <th>param_max_depth</th>\n",
       "      <th>param_reg_alpha</th>\n",
       "      <th>param_reg_lambda</th>\n",
       "      <th>param_subsample</th>\n",
       "    </tr>\n",
       "  </thead>\n",
       "  <tbody>\n",
       "    <tr>\n",
       "      <th>0</th>\n",
       "      <td>0.993616</td>\n",
       "      <td>0</td>\n",
       "      <td>0</td>\n",
       "      <td>0</td>\n",
       "      <td>0</td>\n",
       "      <td>0</td>\n",
       "    </tr>\n",
       "    <tr>\n",
       "      <th>1</th>\n",
       "      <td>0.993180</td>\n",
       "      <td>0</td>\n",
       "      <td>0</td>\n",
       "      <td>0</td>\n",
       "      <td>0</td>\n",
       "      <td>1</td>\n",
       "    </tr>\n",
       "    <tr>\n",
       "      <th>2</th>\n",
       "      <td>0.994852</td>\n",
       "      <td>0</td>\n",
       "      <td>0</td>\n",
       "      <td>0</td>\n",
       "      <td>1</td>\n",
       "      <td>0</td>\n",
       "    </tr>\n",
       "    <tr>\n",
       "      <th>3</th>\n",
       "      <td>0.994346</td>\n",
       "      <td>0</td>\n",
       "      <td>0</td>\n",
       "      <td>0</td>\n",
       "      <td>1</td>\n",
       "      <td>1</td>\n",
       "    </tr>\n",
       "    <tr>\n",
       "      <th>4</th>\n",
       "      <td>0.998017</td>\n",
       "      <td>0</td>\n",
       "      <td>0</td>\n",
       "      <td>0.5</td>\n",
       "      <td>0</td>\n",
       "      <td>0</td>\n",
       "    </tr>\n",
       "  </tbody>\n",
       "</table>\n",
       "</div>"
      ],
      "text/plain": [
       "   mean_test_score param_learning_rate param_max_depth param_reg_alpha  \\\n",
       "0         0.993616                   0               0               0   \n",
       "1         0.993180                   0               0               0   \n",
       "2         0.994852                   0               0               0   \n",
       "3         0.994346                   0               0               0   \n",
       "4         0.998017                   0               0             0.5   \n",
       "\n",
       "  param_reg_lambda param_subsample  \n",
       "0                0               0  \n",
       "1                0               1  \n",
       "2                1               0  \n",
       "3                1               1  \n",
       "4                0               0  "
      ]
     },
     "execution_count": 27,
     "metadata": {},
     "output_type": "execute_result"
    }
   ],
   "source": [
    "df_norm.head()"
   ]
  },
  {
   "cell_type": "code",
   "execution_count": 52,
   "metadata": {
    "collapsed": false
   },
   "outputs": [
    {
     "data": {
      "text/plain": [
       "<matplotlib.legend.Legend at 0xdae0978>"
      ]
     },
     "execution_count": 52,
     "metadata": {},
     "output_type": "execute_result"
    },
    {
     "data": {
      "image/png": "[encoded data removed]",
      "text/plain": [
       "<matplotlib.figure.Figure at 0xd867208>"
      ]
     },
     "metadata": {},
     "output_type": "display_data"
    }
   ],
   "source": [
    "plt.figure(figsize=(10,10))\n",
    "plt.scatter(df_norm['param_learning_rate'].values,df_norm['mean_test_score'].values,label='learning_rate',s=10)\n",
    "plt.scatter(df_norm['param_max_depth'].values,df_norm['mean_test_score'].values,label='max_depth',s=10)\n",
    "plt.scatter(df_norm['param_reg_alpha'].values,df_norm['mean_test_score'].values,label='reg_alpha',s=10)\n",
    "plt.scatter(df_norm['param_reg_lambda'].values,df_norm['mean_test_score'].values,label='reg_lambda',s=10)\n",
    "plt.scatter(df_norm['param_subsample'].values,df_norm['mean_test_score'].values,label='subsample',s=100)\n",
    "plt.legend()"
   ]
  },
  {
   "cell_type": "code",
   "execution_count": 18,
   "metadata": {
    "collapsed": false
   },
   "outputs": [
    {
     "data": {
      "text/plain": [
       "0"
      ]
     },
     "execution_count": 18,
     "metadata": {},
     "output_type": "execute_result"
    }
   ],
   "source": [
    "np.argmax(lgbm_df['mean_test_score'].values)"
   ]
  },
  {
   "cell_type": "code",
   "execution_count": 19,
   "metadata": {
    "collapsed": false
   },
   "outputs": [
    {
     "data": {
      "text/html": [
       "<div>\n",
       "<style>\n",
       "    .dataframe thead tr:only-child th {\n",
       "        text-align: right;\n",
       "    }\n",
       "\n",
       "    .dataframe thead th {\n",
       "        text-align: left;\n",
       "    }\n",
       "\n",
       "    .dataframe tbody tr th {\n",
       "        vertical-align: top;\n",
       "    }\n",
       "</style>\n",
       "<table border=\"1\" class=\"dataframe\">\n",
       "  <thead>\n",
       "    <tr style=\"text-align: right;\">\n",
       "      <th></th>\n",
       "      <th>mean_fit_time</th>\n",
       "      <th>mean_score_time</th>\n",
       "      <th>mean_test_score</th>\n",
       "      <th>mean_train_score</th>\n",
       "      <th>param_bagging_fraction</th>\n",
       "      <th>param_bagging_freq</th>\n",
       "      <th>param_bagging_seed</th>\n",
       "      <th>param_boosting_type</th>\n",
       "      <th>param_feature_fraction</th>\n",
       "      <th>param_feature_fraction_seed</th>\n",
       "      <th>...</th>\n",
       "      <th>params</th>\n",
       "      <th>rank_test_score</th>\n",
       "      <th>split0_test_score</th>\n",
       "      <th>split0_train_score</th>\n",
       "      <th>split1_test_score</th>\n",
       "      <th>split1_train_score</th>\n",
       "      <th>std_fit_time</th>\n",
       "      <th>std_score_time</th>\n",
       "      <th>std_test_score</th>\n",
       "      <th>std_train_score</th>\n",
       "    </tr>\n",
       "  </thead>\n",
       "  <tbody>\n",
       "    <tr>\n",
       "      <th>0</th>\n",
       "      <td>6443.292053</td>\n",
       "      <td>1.539932</td>\n",
       "      <td>-0.068181</td>\n",
       "      <td>-0.067818</td>\n",
       "      <td>0.7</td>\n",
       "      <td>20</td>\n",
       "      <td>3</td>\n",
       "      <td>gbdt</td>\n",
       "      <td>0.8</td>\n",
       "      <td>2</td>\n",
       "      <td>...</td>\n",
       "      <td>{u'feature_fraction_seed': 2, u'bagging_seed':...</td>\n",
       "      <td>1</td>\n",
       "      <td>-0.071065</td>\n",
       "      <td>-0.065210</td>\n",
       "      <td>-0.065296</td>\n",
       "      <td>-0.070425</td>\n",
       "      <td>32.599419</td>\n",
       "      <td>0.226852</td>\n",
       "      <td>0.002885</td>\n",
       "      <td>0.002608</td>\n",
       "    </tr>\n",
       "    <tr>\n",
       "      <th>1</th>\n",
       "      <td>6458.903256</td>\n",
       "      <td>1.528509</td>\n",
       "      <td>-0.068181</td>\n",
       "      <td>-0.067818</td>\n",
       "      <td>0.7</td>\n",
       "      <td>20</td>\n",
       "      <td>3</td>\n",
       "      <td>gbdt</td>\n",
       "      <td>0.8</td>\n",
       "      <td>2</td>\n",
       "      <td>...</td>\n",
       "      <td>{u'feature_fraction_seed': 2, u'bagging_seed':...</td>\n",
       "      <td>1</td>\n",
       "      <td>-0.071065</td>\n",
       "      <td>-0.065210</td>\n",
       "      <td>-0.065296</td>\n",
       "      <td>-0.070425</td>\n",
       "      <td>25.903582</td>\n",
       "      <td>0.223385</td>\n",
       "      <td>0.002885</td>\n",
       "      <td>0.002608</td>\n",
       "    </tr>\n",
       "    <tr>\n",
       "      <th>2</th>\n",
       "      <td>6503.101211</td>\n",
       "      <td>1.103412</td>\n",
       "      <td>-0.068181</td>\n",
       "      <td>-0.067818</td>\n",
       "      <td>0.7</td>\n",
       "      <td>20</td>\n",
       "      <td>3</td>\n",
       "      <td>gbdt</td>\n",
       "      <td>0.8</td>\n",
       "      <td>2</td>\n",
       "      <td>...</td>\n",
       "      <td>{u'feature_fraction_seed': 2, u'bagging_seed':...</td>\n",
       "      <td>1</td>\n",
       "      <td>-0.071065</td>\n",
       "      <td>-0.065210</td>\n",
       "      <td>-0.065296</td>\n",
       "      <td>-0.070425</td>\n",
       "      <td>18.797912</td>\n",
       "      <td>0.328759</td>\n",
       "      <td>0.002885</td>\n",
       "      <td>0.002608</td>\n",
       "    </tr>\n",
       "    <tr>\n",
       "      <th>3</th>\n",
       "      <td>6506.973116</td>\n",
       "      <td>1.034135</td>\n",
       "      <td>-0.068181</td>\n",
       "      <td>-0.067818</td>\n",
       "      <td>0.7</td>\n",
       "      <td>20</td>\n",
       "      <td>3</td>\n",
       "      <td>gbdt</td>\n",
       "      <td>0.8</td>\n",
       "      <td>2</td>\n",
       "      <td>...</td>\n",
       "      <td>{u'feature_fraction_seed': 2, u'bagging_seed':...</td>\n",
       "      <td>1</td>\n",
       "      <td>-0.071065</td>\n",
       "      <td>-0.065210</td>\n",
       "      <td>-0.065296</td>\n",
       "      <td>-0.070425</td>\n",
       "      <td>8.470817</td>\n",
       "      <td>0.427565</td>\n",
       "      <td>0.002885</td>\n",
       "      <td>0.002608</td>\n",
       "    </tr>\n",
       "    <tr>\n",
       "      <th>4</th>\n",
       "      <td>3942.622472</td>\n",
       "      <td>1.173584</td>\n",
       "      <td>-0.068189</td>\n",
       "      <td>-0.067928</td>\n",
       "      <td>0.7</td>\n",
       "      <td>20</td>\n",
       "      <td>3</td>\n",
       "      <td>gbdt</td>\n",
       "      <td>0.8</td>\n",
       "      <td>2</td>\n",
       "      <td>...</td>\n",
       "      <td>{u'feature_fraction_seed': 2, u'bagging_seed':...</td>\n",
       "      <td>5</td>\n",
       "      <td>-0.071101</td>\n",
       "      <td>-0.065327</td>\n",
       "      <td>-0.065276</td>\n",
       "      <td>-0.070530</td>\n",
       "      <td>22.809064</td>\n",
       "      <td>0.135695</td>\n",
       "      <td>0.002913</td>\n",
       "      <td>0.002601</td>\n",
       "    </tr>\n",
       "  </tbody>\n",
       "</table>\n",
       "<p>5 rows × 30 columns</p>\n",
       "</div>"
      ],
      "text/plain": [
       "   mean_fit_time  mean_score_time  mean_test_score  mean_train_score  \\\n",
       "0    6443.292053         1.539932        -0.068181         -0.067818   \n",
       "1    6458.903256         1.528509        -0.068181         -0.067818   \n",
       "2    6503.101211         1.103412        -0.068181         -0.067818   \n",
       "3    6506.973116         1.034135        -0.068181         -0.067818   \n",
       "4    3942.622472         1.173584        -0.068189         -0.067928   \n",
       "\n",
       "  param_bagging_fraction param_bagging_freq param_bagging_seed  \\\n",
       "0                    0.7                 20                  3   \n",
       "1                    0.7                 20                  3   \n",
       "2                    0.7                 20                  3   \n",
       "3                    0.7                 20                  3   \n",
       "4                    0.7                 20                  3   \n",
       "\n",
       "  param_boosting_type param_feature_fraction param_feature_fraction_seed  \\\n",
       "0                gbdt                    0.8                           2   \n",
       "1                gbdt                    0.8                           2   \n",
       "2                gbdt                    0.8                           2   \n",
       "3                gbdt                    0.8                           2   \n",
       "4                gbdt                    0.8                           2   \n",
       "\n",
       "        ...                                                   params  \\\n",
       "0       ...        {u'feature_fraction_seed': 2, u'bagging_seed':...   \n",
       "1       ...        {u'feature_fraction_seed': 2, u'bagging_seed':...   \n",
       "2       ...        {u'feature_fraction_seed': 2, u'bagging_seed':...   \n",
       "3       ...        {u'feature_fraction_seed': 2, u'bagging_seed':...   \n",
       "4       ...        {u'feature_fraction_seed': 2, u'bagging_seed':...   \n",
       "\n",
       "  rank_test_score split0_test_score split0_train_score split1_test_score  \\\n",
       "0               1         -0.071065          -0.065210         -0.065296   \n",
       "1               1         -0.071065          -0.065210         -0.065296   \n",
       "2               1         -0.071065          -0.065210         -0.065296   \n",
       "3               1         -0.071065          -0.065210         -0.065296   \n",
       "4               5         -0.071101          -0.065327         -0.065276   \n",
       "\n",
       "  split1_train_score std_fit_time std_score_time std_test_score  \\\n",
       "0          -0.070425    32.599419       0.226852       0.002885   \n",
       "1          -0.070425    25.903582       0.223385       0.002885   \n",
       "2          -0.070425    18.797912       0.328759       0.002885   \n",
       "3          -0.070425     8.470817       0.427565       0.002885   \n",
       "4          -0.070530    22.809064       0.135695       0.002913   \n",
       "\n",
       "  std_train_score  \n",
       "0        0.002608  \n",
       "1        0.002608  \n",
       "2        0.002608  \n",
       "3        0.002608  \n",
       "4        0.002601  \n",
       "\n",
       "[5 rows x 30 columns]"
      ]
     },
     "execution_count": 19,
     "metadata": {},
     "output_type": "execute_result"
    }
   ],
   "source": [
    "lgbm_df.sort_values('mean_test_score',ascending=False)\n",
    "lgbm_df.head()"
   ]
  },
  {
   "cell_type": "code",
   "execution_count": 20,
   "metadata": {
    "collapsed": false
   },
   "outputs": [
    {
     "data": {
      "text/plain": [
       "[<matplotlib.lines.Line2D at 0xa30b668>]"
      ]
     },
     "execution_count": 20,
     "metadata": {},
     "output_type": "execute_result"
    },
    {
     "data": {
      "image/png": "[encoded data removed]",
      "text/plain": [
       "<matplotlib.figure.Figure at 0xa186748>"
      ]
     },
     "metadata": {},
     "output_type": "display_data"
    }
   ],
   "source": [
    "x = lgbm_df.index.values\n",
    "y = lgbm_df['mean_test_score'].values\n",
    "plt.plot(x,y)"
   ]
  },
  {
   "cell_type": "code",
   "execution_count": 21,
   "metadata": {
    "collapsed": false
   },
   "outputs": [
    {
     "data": {
      "text/plain": [
       "mean_fit_time                                                            6443.29\n",
       "mean_score_time                                                          1.53993\n",
       "mean_test_score                                                        -0.068181\n",
       "mean_train_score                                                      -0.0678177\n",
       "param_bagging_fraction                                                       0.7\n",
       "param_bagging_freq                                                            20\n",
       "param_bagging_seed                                                             3\n",
       "param_boosting_type                                                         gbdt\n",
       "param_feature_fraction                                                       0.8\n",
       "param_feature_fraction_seed                                                    2\n",
       "param_learning_rate                                                       0.0021\n",
       "param_max_bin                                                                  7\n",
       "param_metric                                                                  l1\n",
       "param_min_data                                                               300\n",
       "param_min_hessian                                                           0.05\n",
       "param_n_estimators                                                           342\n",
       "param_num_leaves                                                             200\n",
       "param_objective                                                       regression\n",
       "param_sub_feature                                                          0.345\n",
       "param_verbose                                                                  0\n",
       "params                         {u'feature_fraction_seed': 2, u'bagging_seed':...\n",
       "rank_test_score                                                                1\n",
       "split0_test_score                                                     -0.0710655\n",
       "split0_train_score                                                    -0.0652101\n",
       "split1_test_score                                                     -0.0652964\n",
       "split1_train_score                                                    -0.0704252\n",
       "std_fit_time                                                             32.5994\n",
       "std_score_time                                                          0.226852\n",
       "std_test_score                                                        0.00288457\n",
       "std_train_score                                                       0.00260757\n",
       "Name: 0, dtype: object"
      ]
     },
     "execution_count": 21,
     "metadata": {},
     "output_type": "execute_result"
    }
   ],
   "source": [
    "lgbm_df.iloc[0]"
   ]
  },
  {
   "cell_type": "code",
   "execution_count": null,
   "metadata": {
    "collapsed": true
   },
   "outputs": [],
   "source": []
  }
 ],
 "metadata": {
  "kernelspec": {
   "display_name": "Python 2",
   "language": "python",
   "name": "python2"
  },
  "language_info": {
   "codemirror_mode": {
    "name": "ipython",
    "version": 2
   },
   "file_extension": ".py",
   "mimetype": "text/x-python",
   "name": "python",
   "nbconvert_exporter": "python",
   "pygments_lexer": "ipython2",
   "version": "2.7.13"
  }
 },
 "nbformat": 4,
 "nbformat_minor": 0
}
