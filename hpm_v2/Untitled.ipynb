{
 "cells": [
  {
   "cell_type": "code",
   "execution_count": 222,
   "metadata": {
    "collapsed": true
   },
   "outputs": [],
   "source": [
    "import pandas as pd"
   ]
  },
  {
   "cell_type": "code",
   "execution_count": 4,
   "metadata": {
    "collapsed": false
   },
   "outputs": [],
   "source": [
    "prop = pd.read_csv(\"./data_for_testing/prop_sample.csv\")\n",
    "train = pd.read_csv(\"./data_for_testing/train_sample.csv\")\n"
   ]
  },
  {
   "cell_type": "code",
   "execution_count": 8,
   "metadata": {
    "collapsed": true
   },
   "outputs": [],
   "source": [
    "a = train[[\"parcelid\"]].iloc[0:10]"
   ]
  },
  {
   "cell_type": "code",
   "execution_count": 213,
   "metadata": {
    "collapsed": false
   },
   "outputs": [],
   "source": [
    "col_names = [\"ID\",\"Run_type\",\"Prop_option\",\"train_option\",\"Models\",\"CV_MAE\", \"CV_MSE\",\"CV_R2\",\"Test_MAE\",\"Test_MSE\",\"Test_R2\",\n",
    "             \"Status\",\"Training_time\",\"Note\"]\n",
    "log_df = pd.DataFrame(columns = col_names)\n",
    "log_df.to_pickle(\"log_df.pkl\")"
   ]
  },
  {
   "cell_type": "code",
   "execution_count": 203,
   "metadata": {
    "collapsed": false
   },
   "outputs": [
    {
     "data": {
      "text/html": [
       "<div>\n",
       "<style>\n",
       "    .dataframe thead tr:only-child th {\n",
       "        text-align: right;\n",
       "    }\n",
       "\n",
       "    .dataframe thead th {\n",
       "        text-align: left;\n",
       "    }\n",
       "\n",
       "    .dataframe tbody tr th {\n",
       "        vertical-align: top;\n",
       "    }\n",
       "</style>\n",
       "<table border=\"1\" class=\"dataframe\">\n",
       "  <thead>\n",
       "    <tr style=\"text-align: right;\">\n",
       "      <th></th>\n",
       "      <th>ID</th>\n",
       "      <th>Run_type</th>\n",
       "      <th>Prop_option</th>\n",
       "      <th>train_option</th>\n",
       "      <th>Models</th>\n",
       "      <th>CV_MAE</th>\n",
       "      <th>CV_MSE</th>\n",
       "      <th>CV_R2</th>\n",
       "      <th>Test_MAE</th>\n",
       "      <th>Test_MSE</th>\n",
       "      <th>Test_R2</th>\n",
       "      <th>Status</th>\n",
       "      <th>Training_time</th>\n",
       "      <th>Note</th>\n",
       "    </tr>\n",
       "  </thead>\n",
       "  <tbody>\n",
       "  </tbody>\n",
       "</table>\n",
       "</div>"
      ],
      "text/plain": [
       "Empty DataFrame\n",
       "Columns: [ID, Run_type, Prop_option, train_option, Models, CV_MAE, CV_MSE, CV_R2, Test_MAE, Test_MSE, Test_R2, Status, Training_time, Note]\n",
       "Index: []"
      ]
     },
     "execution_count": 203,
     "metadata": {},
     "output_type": "execute_result"
    }
   ],
   "source": [
    "log_df"
   ]
  },
  {
   "cell_type": "code",
   "execution_count": 204,
   "metadata": {
    "collapsed": false
   },
   "outputs": [
    {
     "data": {
      "text/html": [
       "<div>\n",
       "<style>\n",
       "    .dataframe thead tr:only-child th {\n",
       "        text-align: right;\n",
       "    }\n",
       "\n",
       "    .dataframe thead th {\n",
       "        text-align: left;\n",
       "    }\n",
       "\n",
       "    .dataframe tbody tr th {\n",
       "        vertical-align: top;\n",
       "    }\n",
       "</style>\n",
       "<table border=\"1\" class=\"dataframe\">\n",
       "  <thead>\n",
       "    <tr style=\"text-align: right;\">\n",
       "      <th></th>\n",
       "      <th>ID</th>\n",
       "      <th>Run_type</th>\n",
       "      <th>Prop_option</th>\n",
       "      <th>train_option</th>\n",
       "      <th>Models</th>\n",
       "      <th>CV_MAE</th>\n",
       "      <th>CV_MSE</th>\n",
       "      <th>CV_R2</th>\n",
       "      <th>Test_MAE</th>\n",
       "      <th>Test_MSE</th>\n",
       "      <th>Test_R2</th>\n",
       "      <th>Status</th>\n",
       "      <th>Training_time</th>\n",
       "      <th>Note</th>\n",
       "    </tr>\n",
       "  </thead>\n",
       "  <tbody>\n",
       "  </tbody>\n",
       "</table>\n",
       "</div>"
      ],
      "text/plain": [
       "Empty DataFrame\n",
       "Columns: [ID, Run_type, Prop_option, train_option, Models, CV_MAE, CV_MSE, CV_R2, Test_MAE, Test_MSE, Test_R2, Status, Training_time, Note]\n",
       "Index: []"
      ]
     },
     "execution_count": 204,
     "metadata": {},
     "output_type": "execute_result"
    }
   ],
   "source": [
    "pd.read_pickle(\"log_df.pkl\")"
   ]
  },
  {
   "cell_type": "code",
   "execution_count": 214,
   "metadata": {
    "collapsed": false
   },
   "outputs": [
    {
     "data": {
      "text/html": [
       "<div>\n",
       "<style>\n",
       "    .dataframe thead tr:only-child th {\n",
       "        text-align: right;\n",
       "    }\n",
       "\n",
       "    .dataframe thead th {\n",
       "        text-align: left;\n",
       "    }\n",
       "\n",
       "    .dataframe tbody tr th {\n",
       "        vertical-align: top;\n",
       "    }\n",
       "</style>\n",
       "<table border=\"1\" class=\"dataframe\">\n",
       "  <thead>\n",
       "    <tr style=\"text-align: right;\">\n",
       "      <th></th>\n",
       "      <th>bagging_fraction</th>\n",
       "      <th>bagging_freq</th>\n",
       "      <th>bagging_seed</th>\n",
       "      <th>boosting_type</th>\n",
       "      <th>feature_fraction_seed</th>\n",
       "      <th>learning_rate</th>\n",
       "      <th>max_bin</th>\n",
       "      <th>metric</th>\n",
       "      <th>min_data</th>\n",
       "      <th>min_hessian</th>\n",
       "      <th>num_leaves</th>\n",
       "      <th>objective</th>\n",
       "      <th>sub_feature</th>\n",
       "      <th>verbose</th>\n",
       "    </tr>\n",
       "  </thead>\n",
       "  <tbody>\n",
       "    <tr>\n",
       "      <th>0</th>\n",
       "      <td>0.85</td>\n",
       "      <td>40</td>\n",
       "      <td>3</td>\n",
       "      <td>gbdt</td>\n",
       "      <td>2</td>\n",
       "      <td>0.0021</td>\n",
       "      <td>10</td>\n",
       "      <td>l1</td>\n",
       "      <td>500</td>\n",
       "      <td>0.05</td>\n",
       "      <td>512</td>\n",
       "      <td>regression</td>\n",
       "      <td>0.345</td>\n",
       "      <td>0</td>\n",
       "    </tr>\n",
       "  </tbody>\n",
       "</table>\n",
       "</div>"
      ],
      "text/plain": [
       "   bagging_fraction  bagging_freq  bagging_seed boosting_type  \\\n",
       "0              0.85            40             3          gbdt   \n",
       "\n",
       "   feature_fraction_seed  learning_rate  max_bin metric  min_data  \\\n",
       "0                      2         0.0021       10     l1       500   \n",
       "\n",
       "   min_hessian  num_leaves   objective  sub_feature  verbose  \n",
       "0         0.05         512  regression        0.345        0  "
      ]
     },
     "execution_count": 214,
     "metadata": {},
     "output_type": "execute_result"
    }
   ],
   "source": [
    "light_gbm_params = {}\n",
    "light_gbm_params['max_bin'] = 10\n",
    "light_gbm_params['learning_rate'] = 0.0021 # shrinkage_rate\n",
    "light_gbm_params['boosting_type'] = 'gbdt'\n",
    "light_gbm_params['objective'] = 'regression'\n",
    "light_gbm_params['metric'] = 'l1'          # or 'mae'\n",
    "light_gbm_params['sub_feature'] = 0.345\n",
    "light_gbm_params['bagging_fraction'] = 0.85 # sub_row\n",
    "light_gbm_params['bagging_freq'] = 40\n",
    "light_gbm_params['num_leaves'] = 512        # num_leaf\n",
    "light_gbm_params['min_data'] = 500         # min_data_in_leaf\n",
    "light_gbm_params['min_hessian'] = 0.05     # min_sum_hessian_in_leaf\n",
    "light_gbm_params['verbose'] = 0\n",
    "light_gbm_params['feature_fraction_seed'] = 2\n",
    "light_gbm_params['bagging_seed'] = 3\n",
    "\n",
    "\n",
    "\n",
    "bb = pd.DataFrame([light_gbm_params])\n",
    "bb"
   ]
  },
  {
   "cell_type": "code",
   "execution_count": 215,
   "metadata": {
    "collapsed": false
   },
   "outputs": [],
   "source": [
    "lgbm_param_df = pd.DataFrame(columns=[\"ID\"] + bb.columns.tolist())\n",
    "lgbm_param_df.to_pickle(\"lgbm_params_df.pkl\")"
   ]
  },
  {
   "cell_type": "code",
   "execution_count": 216,
   "metadata": {
    "collapsed": false
   },
   "outputs": [
    {
     "data": {
      "text/html": [
       "<div>\n",
       "<style>\n",
       "    .dataframe thead tr:only-child th {\n",
       "        text-align: right;\n",
       "    }\n",
       "\n",
       "    .dataframe thead th {\n",
       "        text-align: left;\n",
       "    }\n",
       "\n",
       "    .dataframe tbody tr th {\n",
       "        vertical-align: top;\n",
       "    }\n",
       "</style>\n",
       "<table border=\"1\" class=\"dataframe\">\n",
       "  <thead>\n",
       "    <tr style=\"text-align: right;\">\n",
       "      <th></th>\n",
       "      <th>ID</th>\n",
       "      <th>alpha</th>\n",
       "      <th>base_score</th>\n",
       "      <th>eta</th>\n",
       "      <th>eval_metric</th>\n",
       "      <th>lambda</th>\n",
       "      <th>max_depth</th>\n",
       "      <th>objective</th>\n",
       "      <th>silent</th>\n",
       "      <th>subsample</th>\n",
       "    </tr>\n",
       "  </thead>\n",
       "  <tbody>\n",
       "  </tbody>\n",
       "</table>\n",
       "</div>"
      ],
      "text/plain": [
       "Empty DataFrame\n",
       "Columns: [ID, alpha, base_score, eta, eval_metric, lambda, max_depth, objective, silent, subsample]\n",
       "Index: []"
      ]
     },
     "execution_count": 216,
     "metadata": {},
     "output_type": "execute_result"
    }
   ],
   "source": [
    "xgb_params_1 = {\n",
    "    'eta': 0.037,\n",
    "    'max_depth': 5,\n",
    "    'subsample': 0.80,\n",
    "    'objective': 'reg:linear',\n",
    "    'eval_metric': 'mae',\n",
    "    'lambda': 0.8,\n",
    "    'alpha': 0.4,\n",
    "    'base_score': 0.,\n",
    "    'silent': 1\n",
    "}\n",
    "    \n",
    "cc = pd.DataFrame([xgb_params_1])\n",
    "xgb_params_1_df = pd.DataFrame(columns=[\"ID\"] + cc.columns.tolist())\n",
    "xgb_params_1_df.to_pickle(\"xgb_params_1_df.pkl\")\n",
    "xgb_params_1_df"
   ]
  },
  {
   "cell_type": "code",
   "execution_count": 217,
   "metadata": {
    "collapsed": true
   },
   "outputs": [],
   "source": [
    "xgb_params_1_df.to_pickle(\"xgb_params_1_df.pkl\")\n",
    "xgb_params_1_df.to_pickle(\"xgb_params_2_df.pkl\")"
   ]
  },
  {
   "cell_type": "code",
   "execution_count": 221,
   "metadata": {
    "collapsed": false
   },
   "outputs": [
    {
     "data": {
      "text/html": [
       "<div>\n",
       "<style>\n",
       "    .dataframe thead tr:only-child th {\n",
       "        text-align: right;\n",
       "    }\n",
       "\n",
       "    .dataframe thead th {\n",
       "        text-align: left;\n",
       "    }\n",
       "\n",
       "    .dataframe tbody tr th {\n",
       "        vertical-align: top;\n",
       "    }\n",
       "</style>\n",
       "<table border=\"1\" class=\"dataframe\">\n",
       "  <thead>\n",
       "    <tr style=\"text-align: right;\">\n",
       "      <th></th>\n",
       "      <th>ID</th>\n",
       "      <th>Run_type</th>\n",
       "      <th>Prop_option</th>\n",
       "      <th>train_option</th>\n",
       "      <th>Models</th>\n",
       "      <th>CV_MAE</th>\n",
       "      <th>CV_MSE</th>\n",
       "      <th>CV_R2</th>\n",
       "      <th>Test_MAE</th>\n",
       "      <th>Test_MSE</th>\n",
       "      <th>Test_R2</th>\n",
       "      <th>Status</th>\n",
       "      <th>Training_time</th>\n",
       "      <th>Note</th>\n",
       "    </tr>\n",
       "  </thead>\n",
       "  <tbody>\n",
       "  </tbody>\n",
       "</table>\n",
       "</div>"
      ],
      "text/plain": [
       "Empty DataFrame\n",
       "Columns: [ID, Run_type, Prop_option, train_option, Models, CV_MAE, CV_MSE, CV_R2, Test_MAE, Test_MSE, Test_R2, Status, Training_time, Note]\n",
       "Index: []"
      ]
     },
     "execution_count": 221,
     "metadata": {},
     "output_type": "execute_result"
    }
   ],
   "source": [
    "pd.read_pickle(\"log_df.pkl\")"
   ]
  },
  {
   "cell_type": "code",
   "execution_count": 218,
   "metadata": {
    "collapsed": false
   },
   "outputs": [
    {
     "data": {
      "text/html": [
       "<div>\n",
       "<style>\n",
       "    .dataframe thead tr:only-child th {\n",
       "        text-align: right;\n",
       "    }\n",
       "\n",
       "    .dataframe thead th {\n",
       "        text-align: left;\n",
       "    }\n",
       "\n",
       "    .dataframe tbody tr th {\n",
       "        vertical-align: top;\n",
       "    }\n",
       "</style>\n",
       "<table border=\"1\" class=\"dataframe\">\n",
       "  <thead>\n",
       "    <tr style=\"text-align: right;\">\n",
       "      <th></th>\n",
       "      <th>ID</th>\n",
       "      <th>bagging_fraction</th>\n",
       "      <th>bagging_freq</th>\n",
       "      <th>bagging_seed</th>\n",
       "      <th>boosting_type</th>\n",
       "      <th>feature_fraction_seed</th>\n",
       "      <th>learning_rate</th>\n",
       "      <th>max_bin</th>\n",
       "      <th>metric</th>\n",
       "      <th>min_data</th>\n",
       "      <th>min_hessian</th>\n",
       "      <th>num_leaves</th>\n",
       "      <th>objective</th>\n",
       "      <th>sub_feature</th>\n",
       "      <th>verbose</th>\n",
       "    </tr>\n",
       "  </thead>\n",
       "  <tbody>\n",
       "  </tbody>\n",
       "</table>\n",
       "</div>"
      ],
      "text/plain": [
       "Empty DataFrame\n",
       "Columns: [ID, bagging_fraction, bagging_freq, bagging_seed, boosting_type, feature_fraction_seed, learning_rate, max_bin, metric, min_data, min_hessian, num_leaves, objective, sub_feature, verbose]\n",
       "Index: []"
      ]
     },
     "execution_count": 218,
     "metadata": {},
     "output_type": "execute_result"
    }
   ],
   "source": [
    "pd.read_pickle(\"lgbm_params_df.pkl\")"
   ]
  },
  {
   "cell_type": "code",
   "execution_count": 219,
   "metadata": {
    "collapsed": false
   },
   "outputs": [
    {
     "data": {
      "text/html": [
       "<div>\n",
       "<style>\n",
       "    .dataframe thead tr:only-child th {\n",
       "        text-align: right;\n",
       "    }\n",
       "\n",
       "    .dataframe thead th {\n",
       "        text-align: left;\n",
       "    }\n",
       "\n",
       "    .dataframe tbody tr th {\n",
       "        vertical-align: top;\n",
       "    }\n",
       "</style>\n",
       "<table border=\"1\" class=\"dataframe\">\n",
       "  <thead>\n",
       "    <tr style=\"text-align: right;\">\n",
       "      <th></th>\n",
       "      <th>ID</th>\n",
       "      <th>alpha</th>\n",
       "      <th>base_score</th>\n",
       "      <th>eta</th>\n",
       "      <th>eval_metric</th>\n",
       "      <th>lambda</th>\n",
       "      <th>max_depth</th>\n",
       "      <th>objective</th>\n",
       "      <th>silent</th>\n",
       "      <th>subsample</th>\n",
       "    </tr>\n",
       "  </thead>\n",
       "  <tbody>\n",
       "  </tbody>\n",
       "</table>\n",
       "</div>"
      ],
      "text/plain": [
       "Empty DataFrame\n",
       "Columns: [ID, alpha, base_score, eta, eval_metric, lambda, max_depth, objective, silent, subsample]\n",
       "Index: []"
      ]
     },
     "execution_count": 219,
     "metadata": {},
     "output_type": "execute_result"
    }
   ],
   "source": [
    "pd.read_pickle(\"xgb_params_1_df.pkl\")"
   ]
  },
  {
   "cell_type": "code",
   "execution_count": 220,
   "metadata": {
    "collapsed": false
   },
   "outputs": [
    {
     "data": {
      "text/html": [
       "<div>\n",
       "<style>\n",
       "    .dataframe thead tr:only-child th {\n",
       "        text-align: right;\n",
       "    }\n",
       "\n",
       "    .dataframe thead th {\n",
       "        text-align: left;\n",
       "    }\n",
       "\n",
       "    .dataframe tbody tr th {\n",
       "        vertical-align: top;\n",
       "    }\n",
       "</style>\n",
       "<table border=\"1\" class=\"dataframe\">\n",
       "  <thead>\n",
       "    <tr style=\"text-align: right;\">\n",
       "      <th></th>\n",
       "      <th>ID</th>\n",
       "      <th>alpha</th>\n",
       "      <th>base_score</th>\n",
       "      <th>eta</th>\n",
       "      <th>eval_metric</th>\n",
       "      <th>lambda</th>\n",
       "      <th>max_depth</th>\n",
       "      <th>objective</th>\n",
       "      <th>silent</th>\n",
       "      <th>subsample</th>\n",
       "    </tr>\n",
       "  </thead>\n",
       "  <tbody>\n",
       "  </tbody>\n",
       "</table>\n",
       "</div>"
      ],
      "text/plain": [
       "Empty DataFrame\n",
       "Columns: [ID, alpha, base_score, eta, eval_metric, lambda, max_depth, objective, silent, subsample]\n",
       "Index: []"
      ]
     },
     "execution_count": 220,
     "metadata": {},
     "output_type": "execute_result"
    }
   ],
   "source": [
    "pd.read_pickle(\"xgb_params_2_df.pkl\")"
   ]
  },
  {
   "cell_type": "code",
   "execution_count": 208,
   "metadata": {
    "collapsed": false
   },
   "outputs": [],
   "source": [
    "a = train.as_matrix()"
   ]
  },
  {
   "cell_type": "code",
   "execution_count": 212,
   "metadata": {
    "collapsed": false
   },
   "outputs": [
    {
     "data": {
      "text/plain": [
       "array([[0.0276, '1/1/2016'],\n",
       "       [-0.1684, '1/1/2016'],\n",
       "       [-0.004, '1/1/2016'],\n",
       "       ..., \n",
       "       [-0.0408, '1/7/2016'],\n",
       "       [-0.006, '1/7/2016'],\n",
       "       [-0.0151, '1/7/2016']], dtype=object)"
      ]
     },
     "execution_count": 212,
     "metadata": {},
     "output_type": "execute_result"
    }
   ],
   "source": [
    "a[:,1:]"
   ]
  },
  {
   "cell_type": "code",
   "execution_count": 319,
   "metadata": {
    "collapsed": false
   },
   "outputs": [],
   "source": [
    "fx = pd.read_pickle(\"delm_me_fx.pkl\")\n",
    "fy = pd.read_pickle(\"delm_me_fy.pkl\")\n",
    "mx = pd.read_pickle(\"delm_me_mx.pkl\")\n",
    "my = pd.read_pickle(\"delm_me_my.pkl\")\n",
    "fxt = pd.read_pickle(\"delm_me_fxtest.pkl\")\n",
    "mxt = pd.read_pickle(\"delm_me_mxtest.pkl\")"
   ]
  },
  {
   "cell_type": "code",
   "execution_count": 285,
   "metadata": {
    "collapsed": false
   },
   "outputs": [
    {
     "data": {
      "text/plain": [
       "0    True\n",
       "dtype: bool"
      ]
     },
     "execution_count": 285,
     "metadata": {},
     "output_type": "execute_result"
    }
   ],
   "source": [
    "(my.head()==fy.head()).all()"
   ]
  },
  {
   "cell_type": "code",
   "execution_count": 278,
   "metadata": {
    "collapsed": false
   },
   "outputs": [
    {
     "data": {
      "text/html": [
       "<div>\n",
       "<style>\n",
       "    .dataframe thead tr:only-child th {\n",
       "        text-align: right;\n",
       "    }\n",
       "\n",
       "    .dataframe thead th {\n",
       "        text-align: left;\n",
       "    }\n",
       "\n",
       "    .dataframe tbody tr th {\n",
       "        vertical-align: top;\n",
       "    }\n",
       "</style>\n",
       "<table border=\"1\" class=\"dataframe\">\n",
       "  <thead>\n",
       "    <tr style=\"text-align: right;\">\n",
       "      <th></th>\n",
       "      <th>airconditioningtypeid</th>\n",
       "      <th>finishedfloor1squarefeet</th>\n",
       "      <th>rawcensustractandblock</th>\n",
       "      <th>taxamount</th>\n",
       "      <th>censustractandblock</th>\n",
       "    </tr>\n",
       "  </thead>\n",
       "  <tbody>\n",
       "    <tr>\n",
       "      <th>0</th>\n",
       "      <td>1.0</td>\n",
       "      <td>NaN</td>\n",
       "      <td>60371068.0</td>\n",
       "      <td>6735.879883</td>\n",
       "      <td>6.040000e+13</td>\n",
       "    </tr>\n",
       "    <tr>\n",
       "      <th>1</th>\n",
       "      <td>NaN</td>\n",
       "      <td>NaN</td>\n",
       "      <td>60590524.0</td>\n",
       "      <td>10153.019531</td>\n",
       "      <td>NaN</td>\n",
       "    </tr>\n",
       "    <tr>\n",
       "      <th>2</th>\n",
       "      <td>1.0</td>\n",
       "      <td>NaN</td>\n",
       "      <td>60374640.0</td>\n",
       "      <td>11484.480469</td>\n",
       "      <td>6.040000e+13</td>\n",
       "    </tr>\n",
       "    <tr>\n",
       "      <th>3</th>\n",
       "      <td>1.0</td>\n",
       "      <td>NaN</td>\n",
       "      <td>60372964.0</td>\n",
       "      <td>3048.739990</td>\n",
       "      <td>6.040000e+13</td>\n",
       "    </tr>\n",
       "    <tr>\n",
       "      <th>4</th>\n",
       "      <td>NaN</td>\n",
       "      <td>NaN</td>\n",
       "      <td>60590424.0</td>\n",
       "      <td>5488.959961</td>\n",
       "      <td>6.060000e+13</td>\n",
       "    </tr>\n",
       "  </tbody>\n",
       "</table>\n",
       "</div>"
      ],
      "text/plain": [
       "   airconditioningtypeid  finishedfloor1squarefeet  rawcensustractandblock  \\\n",
       "0                    1.0                       NaN              60371068.0   \n",
       "1                    NaN                       NaN              60590524.0   \n",
       "2                    1.0                       NaN              60374640.0   \n",
       "3                    1.0                       NaN              60372964.0   \n",
       "4                    NaN                       NaN              60590424.0   \n",
       "\n",
       "      taxamount  censustractandblock  \n",
       "0   6735.879883         6.040000e+13  \n",
       "1  10153.019531                  NaN  \n",
       "2  11484.480469         6.040000e+13  \n",
       "3   3048.739990         6.040000e+13  \n",
       "4   5488.959961         6.060000e+13  "
      ]
     },
     "execution_count": 278,
     "metadata": {},
     "output_type": "execute_result"
    }
   ],
   "source": [
    "f[[\"airconditioningtypeid\",\"finishedfloor1squarefeet\",\"rawcensustractandblock\",\"taxamount\",\"censustractandblock\"]].head()"
   ]
  },
  {
   "cell_type": "code",
   "execution_count": 279,
   "metadata": {
    "collapsed": false
   },
   "outputs": [
    {
     "data": {
      "text/html": [
       "<div>\n",
       "<style>\n",
       "    .dataframe thead tr:only-child th {\n",
       "        text-align: right;\n",
       "    }\n",
       "\n",
       "    .dataframe thead th {\n",
       "        text-align: left;\n",
       "    }\n",
       "\n",
       "    .dataframe tbody tr th {\n",
       "        vertical-align: top;\n",
       "    }\n",
       "</style>\n",
       "<table border=\"1\" class=\"dataframe\">\n",
       "  <thead>\n",
       "    <tr style=\"text-align: right;\">\n",
       "      <th></th>\n",
       "      <th>airconditioningtypeid</th>\n",
       "      <th>finishedfloor1squarefeet</th>\n",
       "      <th>rawcensustractandblock</th>\n",
       "      <th>taxamount</th>\n",
       "      <th>censustractandblock</th>\n",
       "    </tr>\n",
       "  </thead>\n",
       "  <tbody>\n",
       "    <tr>\n",
       "      <th>0</th>\n",
       "      <td>1.0</td>\n",
       "      <td>NaN</td>\n",
       "      <td>60371068.0</td>\n",
       "      <td>6735.879883</td>\n",
       "      <td>6.040000e+13</td>\n",
       "    </tr>\n",
       "    <tr>\n",
       "      <th>1</th>\n",
       "      <td>NaN</td>\n",
       "      <td>NaN</td>\n",
       "      <td>60590524.0</td>\n",
       "      <td>10153.019531</td>\n",
       "      <td>NaN</td>\n",
       "    </tr>\n",
       "    <tr>\n",
       "      <th>2</th>\n",
       "      <td>1.0</td>\n",
       "      <td>NaN</td>\n",
       "      <td>60374640.0</td>\n",
       "      <td>11484.480469</td>\n",
       "      <td>6.040000e+13</td>\n",
       "    </tr>\n",
       "    <tr>\n",
       "      <th>3</th>\n",
       "      <td>1.0</td>\n",
       "      <td>NaN</td>\n",
       "      <td>60372964.0</td>\n",
       "      <td>3048.739990</td>\n",
       "      <td>6.040000e+13</td>\n",
       "    </tr>\n",
       "    <tr>\n",
       "      <th>4</th>\n",
       "      <td>NaN</td>\n",
       "      <td>NaN</td>\n",
       "      <td>60590424.0</td>\n",
       "      <td>5488.959961</td>\n",
       "      <td>6.060000e+13</td>\n",
       "    </tr>\n",
       "  </tbody>\n",
       "</table>\n",
       "</div>"
      ],
      "text/plain": [
       "   airconditioningtypeid  finishedfloor1squarefeet  rawcensustractandblock  \\\n",
       "0                    1.0                       NaN              60371068.0   \n",
       "1                    NaN                       NaN              60590524.0   \n",
       "2                    1.0                       NaN              60374640.0   \n",
       "3                    1.0                       NaN              60372964.0   \n",
       "4                    NaN                       NaN              60590424.0   \n",
       "\n",
       "      taxamount  censustractandblock  \n",
       "0   6735.879883         6.040000e+13  \n",
       "1  10153.019531                  NaN  \n",
       "2  11484.480469         6.040000e+13  \n",
       "3   3048.739990         6.040000e+13  \n",
       "4   5488.959961         6.060000e+13  "
      ]
     },
     "execution_count": 279,
     "metadata": {},
     "output_type": "execute_result"
    }
   ],
   "source": [
    "m[[\"airconditioningtypeid\",\"finishedfloor1squarefeet\",\"rawcensustractandblock\",\"taxamount\",\"censustractandblock\"]].head()"
   ]
  },
  {
   "cell_type": "code",
   "execution_count": 305,
   "metadata": {
    "collapsed": true
   },
   "outputs": [],
   "source": [
    "import xgboost as xgb\n",
    "import pickle"
   ]
  },
  {
   "cell_type": "code",
   "execution_count": 291,
   "metadata": {
    "collapsed": true
   },
   "outputs": [],
   "source": [
    "dtrain_f = xgb.DMatrix(fx,fy[0].values)"
   ]
  },
  {
   "cell_type": "code",
   "execution_count": 292,
   "metadata": {
    "collapsed": false
   },
   "outputs": [],
   "source": [
    "dtrain_m = xgb.DMatrix(mx,my[0].values)"
   ]
  },
  {
   "cell_type": "code",
   "execution_count": 299,
   "metadata": {
    "collapsed": false
   },
   "outputs": [],
   "source": [
    "dtrain_f2 = xgb.DMatrix(fx,fy[0].values)"
   ]
  },
  {
   "cell_type": "code",
   "execution_count": 321,
   "metadata": {
    "collapsed": false
   },
   "outputs": [],
   "source": [
    "dtest_f = xgb.DMatrix(fxt)\n",
    "dtest_m = xgb.DMatrix(mxt)"
   ]
  },
  {
   "cell_type": "code",
   "execution_count": 320,
   "metadata": {
    "collapsed": true
   },
   "outputs": [],
   "source": [
    "f_model = pickle.load(open(\"f_model.pickle.dat\", \"rb\"))\n",
    "m_model = pickle.load(open(\"m_model.pickle.dat\", \"rb\"))"
   ]
  },
  {
   "cell_type": "code",
   "execution_count": 322,
   "metadata": {
    "collapsed": false
   },
   "outputs": [],
   "source": [
    "f_pred = f_model.predict(dtest_f)\n",
    "m_pred = m_model.predict(dtest_m)"
   ]
  },
  {
   "cell_type": "code",
   "execution_count": 323,
   "metadata": {
    "collapsed": false
   },
   "outputs": [
    {
     "data": {
      "text/plain": [
       "False"
      ]
     },
     "execution_count": 323,
     "metadata": {},
     "output_type": "execute_result"
    }
   ],
   "source": [
    "(f_pred == m_pred).all()"
   ]
  },
  {
   "cell_type": "code",
   "execution_count": 324,
   "metadata": {
    "collapsed": false
   },
   "outputs": [
    {
     "data": {
      "text/plain": [
       "array([ 0.01377846, -0.04097275,  0.00991168,  0.01949153,  0.01306872,\n",
       "       -0.15471147,  0.00741198,  0.09506933, -0.03301979, -0.023992  ], dtype=float32)"
      ]
     },
     "execution_count": 324,
     "metadata": {},
     "output_type": "execute_result"
    }
   ],
   "source": [
    "f_pred[0:10]"
   ]
  },
  {
   "cell_type": "code",
   "execution_count": 325,
   "metadata": {
    "collapsed": false
   },
   "outputs": [
    {
     "data": {
      "text/plain": [
       "array([ 0.01489247, -0.07962087,  0.00021284,  0.0060161 ,  0.01831799,\n",
       "       -0.19465022,  0.00557072,  0.0767998 , -0.01794186,  0.00631373], dtype=float32)"
      ]
     },
     "execution_count": 325,
     "metadata": {},
     "output_type": "execute_result"
    }
   ],
   "source": [
    "m_pred[0:10]"
   ]
  },
  {
   "cell_type": "code",
   "execution_count": 316,
   "metadata": {
    "collapsed": false
   },
   "outputs": [],
   "source": [
    "x_f = pd.read_pickle(\"dem_me_f.pkl\")\n",
    "m_f = pd.read_pickle(\"dem_me_m.pkl\")"
   ]
  },
  {
   "cell_type": "code",
   "execution_count": null,
   "metadata": {
    "collapsed": false
   },
   "outputs": [],
   "source": []
  },
  {
   "cell_type": "code",
   "execution_count": null,
   "metadata": {
    "collapsed": true
   },
   "outputs": [],
   "source": [
    "# for back up\n",
    "x_train.to_pickle(\"delm_me_fx.pkl\")\n",
    "x_test.to_pickle(\"delm_me_fxtest.pkl\")\n",
    "pd.DataFrame(y_train).to_pickle(\"delm_me_fy.pkl\")\n",
    "pickle.dump(model, open(\"f_model.pickle.dat\", \"wb\"))\n",
    "sys.exit()"
   ]
  }
 ],
 "metadata": {
  "kernelspec": {
   "display_name": "Python 2",
   "language": "python",
   "name": "python2"
  },
  "language_info": {
   "codemirror_mode": {
    "name": "ipython",
    "version": 2
   },
   "file_extension": ".py",
   "mimetype": "text/x-python",
   "name": "python",
   "nbconvert_exporter": "python",
   "pygments_lexer": "ipython2",
   "version": "2.7.13"
  }
 },
 "nbformat": 4,
 "nbformat_minor": 0
}
