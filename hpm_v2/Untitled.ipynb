{
 "cells": [
  {
   "cell_type": "code",
   "execution_count": 222,
   "metadata": {
    "collapsed": true
   },
   "outputs": [],
   "source": [
    "import pandas as pd"
   ]
  },
  {
   "cell_type": "code",
   "execution_count": 353,
   "metadata": {
    "collapsed": false
   },
   "outputs": [],
   "source": [
    "prop = pd.read_csv(\"./data_for_testing/prop_sample.csv\")\n",
    "train = pd.read_csv(\"./data_for_testing/train_sample.csv\")\n"
   ]
  },
  {
   "cell_type": "code",
   "execution_count": 8,
   "metadata": {
    "collapsed": true
   },
   "outputs": [],
   "source": [
    "a = train[[\"parcelid\"]].iloc[0:10]"
   ]
  },
  {
   "cell_type": "code",
   "execution_count": 351,
   "metadata": {
    "collapsed": false
   },
   "outputs": [],
   "source": [
    "col_names = [\"ID\",\"Run_type\",\"data_lgbm\",\"data_xgb\",\"data_ols\",\"Models\",\"CV_MAE\", \"CV_MSE\",\"CV_R2\",\n",
    "             \"Test_MAE\",\"Test_MSE\",\"Test_R2\",\"Status\",\"Training_time\",\"Note\"]\n",
    "log_df = pd.DataFrame(columns = col_names)\n",
    "log_df.to_pickle(\"log_df.pkl\")"
   ]
  },
  {
   "cell_type": "code",
   "execution_count": 352,
   "metadata": {
    "collapsed": false
   },
   "outputs": [
    {
     "data": {
      "text/html": [
       "<div>\n",
       "<style>\n",
       "    .dataframe thead tr:only-child th {\n",
       "        text-align: right;\n",
       "    }\n",
       "\n",
       "    .dataframe thead th {\n",
       "        text-align: left;\n",
       "    }\n",
       "\n",
       "    .dataframe tbody tr th {\n",
       "        vertical-align: top;\n",
       "    }\n",
       "</style>\n",
       "<table border=\"1\" class=\"dataframe\">\n",
       "  <thead>\n",
       "    <tr style=\"text-align: right;\">\n",
       "      <th></th>\n",
       "      <th>ID</th>\n",
       "      <th>Run_type</th>\n",
       "      <th>data_lgbm</th>\n",
       "      <th>data_xgb</th>\n",
       "      <th>data_ols</th>\n",
       "      <th>Models</th>\n",
       "      <th>CV_MAE</th>\n",
       "      <th>CV_MSE</th>\n",
       "      <th>CV_R2</th>\n",
       "      <th>Test_MAE</th>\n",
       "      <th>Test_MSE</th>\n",
       "      <th>Test_R2</th>\n",
       "      <th>Status</th>\n",
       "      <th>Training_time</th>\n",
       "      <th>Note</th>\n",
       "    </tr>\n",
       "  </thead>\n",
       "  <tbody>\n",
       "  </tbody>\n",
       "</table>\n",
       "</div>"
      ],
      "text/plain": [
       "Empty DataFrame\n",
       "Columns: [ID, Run_type, data_lgbm, data_xgb, data_ols, Models, CV_MAE, CV_MSE, CV_R2, Test_MAE, Test_MSE, Test_R2, Status, Training_time, Note]\n",
       "Index: []"
      ]
     },
     "execution_count": 352,
     "metadata": {},
     "output_type": "execute_result"
    }
   ],
   "source": [
    "log_df"
   ]
  },
  {
   "cell_type": "code",
   "execution_count": 326,
   "metadata": {
    "collapsed": false
   },
   "outputs": [
    {
     "data": {
      "text/html": [
       "<div>\n",
       "<style>\n",
       "    .dataframe thead tr:only-child th {\n",
       "        text-align: right;\n",
       "    }\n",
       "\n",
       "    .dataframe thead th {\n",
       "        text-align: left;\n",
       "    }\n",
       "\n",
       "    .dataframe tbody tr th {\n",
       "        vertical-align: top;\n",
       "    }\n",
       "</style>\n",
       "<table border=\"1\" class=\"dataframe\">\n",
       "  <thead>\n",
       "    <tr style=\"text-align: right;\">\n",
       "      <th></th>\n",
       "      <th>ID</th>\n",
       "      <th>Run_type</th>\n",
       "      <th>Prop_option</th>\n",
       "      <th>train_option</th>\n",
       "      <th>Models</th>\n",
       "      <th>CV_MAE</th>\n",
       "      <th>CV_MSE</th>\n",
       "      <th>CV_R2</th>\n",
       "      <th>Test_MAE</th>\n",
       "      <th>Test_MSE</th>\n",
       "      <th>Test_R2</th>\n",
       "      <th>Status</th>\n",
       "      <th>Training_time</th>\n",
       "      <th>Note</th>\n",
       "    </tr>\n",
       "  </thead>\n",
       "  <tbody>\n",
       "  </tbody>\n",
       "</table>\n",
       "</div>"
      ],
      "text/plain": [
       "Empty DataFrame\n",
       "Columns: [ID, Run_type, Prop_option, train_option, Models, CV_MAE, CV_MSE, CV_R2, Test_MAE, Test_MSE, Test_R2, Status, Training_time, Note]\n",
       "Index: []"
      ]
     },
     "execution_count": 326,
     "metadata": {},
     "output_type": "execute_result"
    }
   ],
   "source": [
    "pd.read_pickle(\"./logs/log_df.pkl\")"
   ]
  },
  {
   "cell_type": "code",
   "execution_count": 214,
   "metadata": {
    "collapsed": false
   },
   "outputs": [
    {
     "data": {
      "text/html": [
       "<div>\n",
       "<style>\n",
       "    .dataframe thead tr:only-child th {\n",
       "        text-align: right;\n",
       "    }\n",
       "\n",
       "    .dataframe thead th {\n",
       "        text-align: left;\n",
       "    }\n",
       "\n",
       "    .dataframe tbody tr th {\n",
       "        vertical-align: top;\n",
       "    }\n",
       "</style>\n",
       "<table border=\"1\" class=\"dataframe\">\n",
       "  <thead>\n",
       "    <tr style=\"text-align: right;\">\n",
       "      <th></th>\n",
       "      <th>bagging_fraction</th>\n",
       "      <th>bagging_freq</th>\n",
       "      <th>bagging_seed</th>\n",
       "      <th>boosting_type</th>\n",
       "      <th>feature_fraction_seed</th>\n",
       "      <th>learning_rate</th>\n",
       "      <th>max_bin</th>\n",
       "      <th>metric</th>\n",
       "      <th>min_data</th>\n",
       "      <th>min_hessian</th>\n",
       "      <th>num_leaves</th>\n",
       "      <th>objective</th>\n",
       "      <th>sub_feature</th>\n",
       "      <th>verbose</th>\n",
       "    </tr>\n",
       "  </thead>\n",
       "  <tbody>\n",
       "    <tr>\n",
       "      <th>0</th>\n",
       "      <td>0.85</td>\n",
       "      <td>40</td>\n",
       "      <td>3</td>\n",
       "      <td>gbdt</td>\n",
       "      <td>2</td>\n",
       "      <td>0.0021</td>\n",
       "      <td>10</td>\n",
       "      <td>l1</td>\n",
       "      <td>500</td>\n",
       "      <td>0.05</td>\n",
       "      <td>512</td>\n",
       "      <td>regression</td>\n",
       "      <td>0.345</td>\n",
       "      <td>0</td>\n",
       "    </tr>\n",
       "  </tbody>\n",
       "</table>\n",
       "</div>"
      ],
      "text/plain": [
       "   bagging_fraction  bagging_freq  bagging_seed boosting_type  \\\n",
       "0              0.85            40             3          gbdt   \n",
       "\n",
       "   feature_fraction_seed  learning_rate  max_bin metric  min_data  \\\n",
       "0                      2         0.0021       10     l1       500   \n",
       "\n",
       "   min_hessian  num_leaves   objective  sub_feature  verbose  \n",
       "0         0.05         512  regression        0.345        0  "
      ]
     },
     "execution_count": 214,
     "metadata": {},
     "output_type": "execute_result"
    }
   ],
   "source": [
    "light_gbm_params = {}\n",
    "light_gbm_params['max_bin'] = 10\n",
    "light_gbm_params['learning_rate'] = 0.0021 # shrinkage_rate\n",
    "light_gbm_params['boosting_type'] = 'gbdt'\n",
    "light_gbm_params['objective'] = 'regression'\n",
    "light_gbm_params['metric'] = 'l1'          # or 'mae'\n",
    "light_gbm_params['sub_feature'] = 0.345\n",
    "light_gbm_params['bagging_fraction'] = 0.85 # sub_row\n",
    "light_gbm_params['bagging_freq'] = 40\n",
    "light_gbm_params['num_leaves'] = 512        # num_leaf\n",
    "light_gbm_params['min_data'] = 500         # min_data_in_leaf\n",
    "light_gbm_params['min_hessian'] = 0.05     # min_sum_hessian_in_leaf\n",
    "light_gbm_params['verbose'] = 0\n",
    "light_gbm_params['feature_fraction_seed'] = 2\n",
    "light_gbm_params['bagging_seed'] = 3\n",
    "\n",
    "\n",
    "\n",
    "bb = pd.DataFrame([light_gbm_params])\n",
    "bb"
   ]
  },
  {
   "cell_type": "code",
   "execution_count": 327,
   "metadata": {
    "collapsed": false
   },
   "outputs": [],
   "source": [
    "lgbm_param_df = pd.DataFrame(columns=[\"ID\"] + bb.columns.tolist())\n",
    "lgbm_param_df.to_pickle(\"./logs/lgbm_params_df.pkl\")"
   ]
  },
  {
   "cell_type": "code",
   "execution_count": 355,
   "metadata": {
    "collapsed": false
   },
   "outputs": [],
   "source": [
    "a = train.copy()\n",
    "a = a.append(a)"
   ]
  },
  {
   "cell_type": "code",
   "execution_count": 356,
   "metadata": {
    "collapsed": false
   },
   "outputs": [
    {
     "data": {
      "text/plain": [
       "(2002, 3)"
      ]
     },
     "execution_count": 356,
     "metadata": {},
     "output_type": "execute_result"
    }
   ],
   "source": [
    "a.shape"
   ]
  },
  {
   "cell_type": "code",
   "execution_count": 361,
   "metadata": {
    "collapsed": false
   },
   "outputs": [
    {
     "data": {
      "text/plain": [
       "3.0"
      ]
     },
     "execution_count": 361,
     "metadata": {},
     "output_type": "execute_result"
    }
   ],
   "source": [
    "float(3)"
   ]
  },
  {
   "cell_type": "code",
   "execution_count": null,
   "metadata": {
    "collapsed": true
   },
   "outputs": [],
   "source": []
  }
 ],
 "metadata": {
  "kernelspec": {
   "display_name": "Python 2",
   "language": "python",
   "name": "python2"
  },
  "language_info": {
   "codemirror_mode": {
    "name": "ipython",
    "version": 2
   },
   "file_extension": ".py",
   "mimetype": "text/x-python",
   "name": "python",
   "nbconvert_exporter": "python",
   "pygments_lexer": "ipython2",
   "version": "2.7.13"
  }
 },
 "nbformat": 4,
 "nbformat_minor": 0
}
