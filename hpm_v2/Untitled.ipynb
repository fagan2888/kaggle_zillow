{
 "cells": [
  {
   "cell_type": "code",
   "execution_count": 2,
   "metadata": {
    "collapsed": true
   },
   "outputs": [],
   "source": [
    "import pandas as pd"
   ]
  },
  {
   "cell_type": "code",
   "execution_count": 4,
   "metadata": {
    "collapsed": false
   },
   "outputs": [],
   "source": [
    "prop = pd.read_csv(\"./data_for_testing/prop_sample.csv\")\n",
    "train = pd.read_csv(\"./data_for_testing/train_sample.csv\")\n"
   ]
  },
  {
   "cell_type": "code",
   "execution_count": 8,
   "metadata": {
    "collapsed": true
   },
   "outputs": [],
   "source": [
    "a = train[[\"parcelid\"]].iloc[0:10]"
   ]
  },
  {
   "cell_type": "code",
   "execution_count": 192,
   "metadata": {
    "collapsed": false
   },
   "outputs": [],
   "source": [
    "col_names = [\"ID\",\"Run_type\",\"Prop_option\",\"train_option\",\"Models\",\"CV_MAE\", \"CV_MSE\",\"CV_R2\",\"Test_MAE\",\"Test_MSE\",\"Test_R2\",\n",
    "             \"Status\"]\n",
    "log_df = pd.DataFrame(columns = col_names)\n",
    "log_df.to_pickle(\"log_df.pkl\")"
   ]
  },
  {
   "cell_type": "code",
   "execution_count": 63,
   "metadata": {
    "collapsed": false
   },
   "outputs": [
    {
     "data": {
      "text/html": [
       "<div>\n",
       "<style>\n",
       "    .dataframe thead tr:only-child th {\n",
       "        text-align: right;\n",
       "    }\n",
       "\n",
       "    .dataframe thead th {\n",
       "        text-align: left;\n",
       "    }\n",
       "\n",
       "    .dataframe tbody tr th {\n",
       "        vertical-align: top;\n",
       "    }\n",
       "</style>\n",
       "<table border=\"1\" class=\"dataframe\">\n",
       "  <thead>\n",
       "    <tr style=\"text-align: right;\">\n",
       "      <th></th>\n",
       "      <th>ID</th>\n",
       "      <th>Prop_option</th>\n",
       "      <th>train_option</th>\n",
       "      <th>Models</th>\n",
       "      <th>CV_score</th>\n",
       "      <th>Test_score</th>\n",
       "      <th>Status</th>\n",
       "    </tr>\n",
       "  </thead>\n",
       "  <tbody>\n",
       "  </tbody>\n",
       "</table>\n",
       "</div>"
      ],
      "text/plain": [
       "Empty DataFrame\n",
       "Columns: [ID, Prop_option, train_option, Models, CV_score, Test_score, Status]\n",
       "Index: []"
      ]
     },
     "execution_count": 63,
     "metadata": {},
     "output_type": "execute_result"
    }
   ],
   "source": [
    "log_df"
   ]
  },
  {
   "cell_type": "code",
   "execution_count": 102,
   "metadata": {
    "collapsed": false
   },
   "outputs": [
    {
     "data": {
      "text/html": [
       "<div>\n",
       "<style>\n",
       "    .dataframe thead tr:only-child th {\n",
       "        text-align: right;\n",
       "    }\n",
       "\n",
       "    .dataframe thead th {\n",
       "        text-align: left;\n",
       "    }\n",
       "\n",
       "    .dataframe tbody tr th {\n",
       "        vertical-align: top;\n",
       "    }\n",
       "</style>\n",
       "<table border=\"1\" class=\"dataframe\">\n",
       "  <thead>\n",
       "    <tr style=\"text-align: right;\">\n",
       "      <th></th>\n",
       "      <th>ID</th>\n",
       "      <th>Run_type</th>\n",
       "      <th>Prop_option</th>\n",
       "      <th>train_option</th>\n",
       "      <th>Models</th>\n",
       "      <th>CV_MAE</th>\n",
       "      <th>CV_MSE</th>\n",
       "      <th>CV_R2</th>\n",
       "      <th>Test_MAE</th>\n",
       "      <th>Test_MSE</th>\n",
       "      <th>Test_R2</th>\n",
       "      <th>Status</th>\n",
       "    </tr>\n",
       "  </thead>\n",
       "  <tbody>\n",
       "    <tr>\n",
       "      <th>0</th>\n",
       "      <td>20170924232356</td>\n",
       "      <td>test</td>\n",
       "      <td>threshold removed w knn filled</td>\n",
       "      <td>threshold removed w knn filled</td>\n",
       "      <td>[[&lt;lightgbm.basic.Booster object at 0x00000000...</td>\n",
       "      <td>0.292919</td>\n",
       "      <td>0.116777</td>\n",
       "      <td>-6.90058</td>\n",
       "      <td>0.442559</td>\n",
       "      <td>0.206339</td>\n",
       "      <td>-18.6876</td>\n",
       "      <td>1</td>\n",
       "    </tr>\n",
       "    <tr>\n",
       "      <th>1</th>\n",
       "      <td>20170924234208</td>\n",
       "      <td>test</td>\n",
       "      <td>threshold removed w knn filled</td>\n",
       "      <td>threshold removed w knn filled</td>\n",
       "      <td>[[&lt;lightgbm.basic.Booster object at 0x00000000...</td>\n",
       "      <td>0.343315</td>\n",
       "      <td>0.143485</td>\n",
       "      <td>-10.3247</td>\n",
       "      <td>0.488162</td>\n",
       "      <td>0.285181</td>\n",
       "      <td>-15.1382</td>\n",
       "      <td>1</td>\n",
       "    </tr>\n",
       "  </tbody>\n",
       "</table>\n",
       "</div>"
      ],
      "text/plain": [
       "               ID Run_type                     Prop_option  \\\n",
       "0  20170924232356     test  threshold removed w knn filled   \n",
       "1  20170924234208     test  threshold removed w knn filled   \n",
       "\n",
       "                     train_option  \\\n",
       "0  threshold removed w knn filled   \n",
       "1  threshold removed w knn filled   \n",
       "\n",
       "                                              Models    CV_MAE    CV_MSE  \\\n",
       "0  [[<lightgbm.basic.Booster object at 0x00000000...  0.292919  0.116777   \n",
       "1  [[<lightgbm.basic.Booster object at 0x00000000...  0.343315  0.143485   \n",
       "\n",
       "     CV_R2  Test_MAE  Test_MSE  Test_R2 Status  \n",
       "0 -6.90058  0.442559  0.206339 -18.6876      1  \n",
       "1 -10.3247  0.488162  0.285181 -15.1382      1  "
      ]
     },
     "execution_count": 102,
     "metadata": {},
     "output_type": "execute_result"
    }
   ],
   "source": [
    "pd.read_pickle(\"log_df.pkl\")"
   ]
  },
  {
   "cell_type": "code",
   "execution_count": 148,
   "metadata": {
    "collapsed": false
   },
   "outputs": [
    {
     "data": {
      "text/html": [
       "<div>\n",
       "<style>\n",
       "    .dataframe thead tr:only-child th {\n",
       "        text-align: right;\n",
       "    }\n",
       "\n",
       "    .dataframe thead th {\n",
       "        text-align: left;\n",
       "    }\n",
       "\n",
       "    .dataframe tbody tr th {\n",
       "        vertical-align: top;\n",
       "    }\n",
       "</style>\n",
       "<table border=\"1\" class=\"dataframe\">\n",
       "  <thead>\n",
       "    <tr style=\"text-align: right;\">\n",
       "      <th></th>\n",
       "      <th>bagging_fraction</th>\n",
       "      <th>bagging_freq</th>\n",
       "      <th>bagging_seed</th>\n",
       "      <th>boosting_type</th>\n",
       "      <th>feature_fraction_seed</th>\n",
       "      <th>learning_rate</th>\n",
       "      <th>max_bin</th>\n",
       "      <th>metric</th>\n",
       "      <th>min_data</th>\n",
       "      <th>min_hessian</th>\n",
       "      <th>num_leaves</th>\n",
       "      <th>objective</th>\n",
       "      <th>sub_feature</th>\n",
       "      <th>verbose</th>\n",
       "    </tr>\n",
       "  </thead>\n",
       "  <tbody>\n",
       "    <tr>\n",
       "      <th>0</th>\n",
       "      <td>0.85</td>\n",
       "      <td>40</td>\n",
       "      <td>3</td>\n",
       "      <td>gbdt</td>\n",
       "      <td>2</td>\n",
       "      <td>0.0021</td>\n",
       "      <td>10</td>\n",
       "      <td>l1</td>\n",
       "      <td>500</td>\n",
       "      <td>0.05</td>\n",
       "      <td>512</td>\n",
       "      <td>regression</td>\n",
       "      <td>0.345</td>\n",
       "      <td>0</td>\n",
       "    </tr>\n",
       "  </tbody>\n",
       "</table>\n",
       "</div>"
      ],
      "text/plain": [
       "   bagging_fraction  bagging_freq  bagging_seed boosting_type  \\\n",
       "0              0.85            40             3          gbdt   \n",
       "\n",
       "   feature_fraction_seed  learning_rate  max_bin metric  min_data  \\\n",
       "0                      2         0.0021       10     l1       500   \n",
       "\n",
       "   min_hessian  num_leaves   objective  sub_feature  verbose  \n",
       "0         0.05         512  regression        0.345        0  "
      ]
     },
     "execution_count": 148,
     "metadata": {},
     "output_type": "execute_result"
    }
   ],
   "source": [
    "light_gbm_params = {}\n",
    "light_gbm_params['max_bin'] = 10\n",
    "light_gbm_params['learning_rate'] = 0.0021 # shrinkage_rate\n",
    "light_gbm_params['boosting_type'] = 'gbdt'\n",
    "light_gbm_params['objective'] = 'regression'\n",
    "light_gbm_params['metric'] = 'l1'          # or 'mae'\n",
    "light_gbm_params['sub_feature'] = 0.345\n",
    "light_gbm_params['bagging_fraction'] = 0.85 # sub_row\n",
    "light_gbm_params['bagging_freq'] = 40\n",
    "light_gbm_params['num_leaves'] = 512        # num_leaf\n",
    "light_gbm_params['min_data'] = 500         # min_data_in_leaf\n",
    "light_gbm_params['min_hessian'] = 0.05     # min_sum_hessian_in_leaf\n",
    "light_gbm_params['verbose'] = 0\n",
    "light_gbm_params['feature_fraction_seed'] = 2\n",
    "light_gbm_params['bagging_seed'] = 3\n",
    "\n",
    "\n",
    "\n",
    "bb = pd.DataFrame([light_gbm_params])\n",
    "bb"
   ]
  },
  {
   "cell_type": "code",
   "execution_count": 193,
   "metadata": {
    "collapsed": false
   },
   "outputs": [],
   "source": [
    "lgbm_param_df = pd.DataFrame(columns=[\"ID\"] + bb.columns.tolist())\n",
    "lgbm_param_df.to_pickle(\"lgbm_params_df.pkl\")"
   ]
  },
  {
   "cell_type": "code",
   "execution_count": 194,
   "metadata": {
    "collapsed": false
   },
   "outputs": [
    {
     "data": {
      "text/html": [
       "<div>\n",
       "<style>\n",
       "    .dataframe thead tr:only-child th {\n",
       "        text-align: right;\n",
       "    }\n",
       "\n",
       "    .dataframe thead th {\n",
       "        text-align: left;\n",
       "    }\n",
       "\n",
       "    .dataframe tbody tr th {\n",
       "        vertical-align: top;\n",
       "    }\n",
       "</style>\n",
       "<table border=\"1\" class=\"dataframe\">\n",
       "  <thead>\n",
       "    <tr style=\"text-align: right;\">\n",
       "      <th></th>\n",
       "      <th>ID</th>\n",
       "      <th>alpha</th>\n",
       "      <th>base_score</th>\n",
       "      <th>eta</th>\n",
       "      <th>eval_metric</th>\n",
       "      <th>lambda</th>\n",
       "      <th>max_depth</th>\n",
       "      <th>objective</th>\n",
       "      <th>silent</th>\n",
       "      <th>subsample</th>\n",
       "    </tr>\n",
       "  </thead>\n",
       "  <tbody>\n",
       "  </tbody>\n",
       "</table>\n",
       "</div>"
      ],
      "text/plain": [
       "Empty DataFrame\n",
       "Columns: [ID, alpha, base_score, eta, eval_metric, lambda, max_depth, objective, silent, subsample]\n",
       "Index: []"
      ]
     },
     "execution_count": 194,
     "metadata": {},
     "output_type": "execute_result"
    }
   ],
   "source": [
    "xgb_params_1 = {\n",
    "    'eta': 0.037,\n",
    "    'max_depth': 5,\n",
    "    'subsample': 0.80,\n",
    "    'objective': 'reg:linear',\n",
    "    'eval_metric': 'mae',\n",
    "    'lambda': 0.8,\n",
    "    'alpha': 0.4,\n",
    "    'base_score': 0.,\n",
    "    'silent': 1\n",
    "}\n",
    "    \n",
    "cc = pd.DataFrame([xgb_params_1])\n",
    "xgb_params_1_df = pd.DataFrame(columns=[\"ID\"] + cc.columns.tolist())\n",
    "xgb_params_1_df.to_pickle(\"xgb_params_1_df.pkl\")\n",
    "xgb_params_1_df"
   ]
  },
  {
   "cell_type": "code",
   "execution_count": 196,
   "metadata": {
    "collapsed": true
   },
   "outputs": [],
   "source": [
    "xgb_params_1_df.to_pickle(\"xgb_params_1_df.pkl\")\n",
    "xgb_params_1_df.to_pickle(\"xgb_params_2_df.pkl\")"
   ]
  },
  {
   "cell_type": "code",
   "execution_count": 188,
   "metadata": {
    "collapsed": false
   },
   "outputs": [
    {
     "data": {
      "text/html": [
       "<div>\n",
       "<style>\n",
       "    .dataframe thead tr:only-child th {\n",
       "        text-align: right;\n",
       "    }\n",
       "\n",
       "    .dataframe thead th {\n",
       "        text-align: left;\n",
       "    }\n",
       "\n",
       "    .dataframe tbody tr th {\n",
       "        vertical-align: top;\n",
       "    }\n",
       "</style>\n",
       "<table border=\"1\" class=\"dataframe\">\n",
       "  <thead>\n",
       "    <tr style=\"text-align: right;\">\n",
       "      <th></th>\n",
       "      <th>ID</th>\n",
       "      <th>Run_type</th>\n",
       "      <th>Prop_option</th>\n",
       "      <th>train_option</th>\n",
       "      <th>Models</th>\n",
       "      <th>CV_MAE</th>\n",
       "      <th>CV_MSE</th>\n",
       "      <th>CV_R2</th>\n",
       "      <th>Test_MAE</th>\n",
       "      <th>Test_MSE</th>\n",
       "      <th>Test_R2</th>\n",
       "      <th>Status</th>\n",
       "    </tr>\n",
       "  </thead>\n",
       "  <tbody>\n",
       "    <tr>\n",
       "      <th>0</th>\n",
       "      <td>20170925003846</td>\n",
       "      <td>test</td>\n",
       "      <td>threshold removed w knn filled</td>\n",
       "      <td>threshold removed w knn filled</td>\n",
       "      <td>[[&lt;lightgbm.basic.Booster object at 0x00000000...</td>\n",
       "      <td>0.226466</td>\n",
       "      <td>0.0627979</td>\n",
       "      <td>-4.06992</td>\n",
       "      <td>0.240164</td>\n",
       "      <td>0.0729506</td>\n",
       "      <td>-3.23558</td>\n",
       "      <td>1</td>\n",
       "    </tr>\n",
       "  </tbody>\n",
       "</table>\n",
       "</div>"
      ],
      "text/plain": [
       "               ID Run_type                     Prop_option  \\\n",
       "0  20170925003846     test  threshold removed w knn filled   \n",
       "\n",
       "                     train_option  \\\n",
       "0  threshold removed w knn filled   \n",
       "\n",
       "                                              Models    CV_MAE     CV_MSE  \\\n",
       "0  [[<lightgbm.basic.Booster object at 0x00000000...  0.226466  0.0627979   \n",
       "\n",
       "     CV_R2  Test_MAE   Test_MSE  Test_R2 Status  \n",
       "0 -4.06992  0.240164  0.0729506 -3.23558      1  "
      ]
     },
     "execution_count": 188,
     "metadata": {},
     "output_type": "execute_result"
    }
   ],
   "source": [
    "pd.read_pickle(\"log_df.pkl\")"
   ]
  },
  {
   "cell_type": "code",
   "execution_count": 189,
   "metadata": {
    "collapsed": false
   },
   "outputs": [
    {
     "data": {
      "text/html": [
       "<div>\n",
       "<style>\n",
       "    .dataframe thead tr:only-child th {\n",
       "        text-align: right;\n",
       "    }\n",
       "\n",
       "    .dataframe thead th {\n",
       "        text-align: left;\n",
       "    }\n",
       "\n",
       "    .dataframe tbody tr th {\n",
       "        vertical-align: top;\n",
       "    }\n",
       "</style>\n",
       "<table border=\"1\" class=\"dataframe\">\n",
       "  <thead>\n",
       "    <tr style=\"text-align: right;\">\n",
       "      <th></th>\n",
       "      <th>ID</th>\n",
       "      <th>bagging_fraction</th>\n",
       "      <th>bagging_freq</th>\n",
       "      <th>bagging_seed</th>\n",
       "      <th>boosting_type</th>\n",
       "      <th>feature_fraction_seed</th>\n",
       "      <th>learning_rate</th>\n",
       "      <th>max_bin</th>\n",
       "      <th>metric</th>\n",
       "      <th>min_data</th>\n",
       "      <th>min_hessian</th>\n",
       "      <th>num_leaves</th>\n",
       "      <th>objective</th>\n",
       "      <th>sub_feature</th>\n",
       "      <th>verbose</th>\n",
       "    </tr>\n",
       "  </thead>\n",
       "  <tbody>\n",
       "    <tr>\n",
       "      <th>0</th>\n",
       "      <td>20170925003846</td>\n",
       "      <td>0.85</td>\n",
       "      <td>40</td>\n",
       "      <td>3</td>\n",
       "      <td>gbdt</td>\n",
       "      <td>2</td>\n",
       "      <td>0.0021</td>\n",
       "      <td>255</td>\n",
       "      <td>l1</td>\n",
       "      <td>500</td>\n",
       "      <td>0.05</td>\n",
       "      <td>512</td>\n",
       "      <td>regression</td>\n",
       "      <td>0.345</td>\n",
       "      <td>0</td>\n",
       "    </tr>\n",
       "  </tbody>\n",
       "</table>\n",
       "</div>"
      ],
      "text/plain": [
       "               ID  bagging_fraction bagging_freq bagging_seed boosting_type  \\\n",
       "0  20170925003846              0.85           40            3          gbdt   \n",
       "\n",
       "  feature_fraction_seed  learning_rate max_bin metric min_data  min_hessian  \\\n",
       "0                     2         0.0021     255     l1      500         0.05   \n",
       "\n",
       "  num_leaves   objective  sub_feature verbose  \n",
       "0        512  regression        0.345       0  "
      ]
     },
     "execution_count": 189,
     "metadata": {},
     "output_type": "execute_result"
    }
   ],
   "source": [
    "pd.read_pickle(\"lgbm_params_df.pkl\")"
   ]
  },
  {
   "cell_type": "code",
   "execution_count": 190,
   "metadata": {
    "collapsed": false
   },
   "outputs": [
    {
     "data": {
      "text/html": [
       "<div>\n",
       "<style>\n",
       "    .dataframe thead tr:only-child th {\n",
       "        text-align: right;\n",
       "    }\n",
       "\n",
       "    .dataframe thead th {\n",
       "        text-align: left;\n",
       "    }\n",
       "\n",
       "    .dataframe tbody tr th {\n",
       "        vertical-align: top;\n",
       "    }\n",
       "</style>\n",
       "<table border=\"1\" class=\"dataframe\">\n",
       "  <thead>\n",
       "    <tr style=\"text-align: right;\">\n",
       "      <th></th>\n",
       "      <th>ID</th>\n",
       "      <th>alpha</th>\n",
       "      <th>base_score</th>\n",
       "      <th>eta</th>\n",
       "      <th>eval_metric</th>\n",
       "      <th>lambda</th>\n",
       "      <th>max_depth</th>\n",
       "      <th>objective</th>\n",
       "      <th>silent</th>\n",
       "      <th>subsample</th>\n",
       "    </tr>\n",
       "  </thead>\n",
       "  <tbody>\n",
       "    <tr>\n",
       "      <th>0</th>\n",
       "      <td>20170925003846</td>\n",
       "      <td>0.4</td>\n",
       "      <td>0.007345</td>\n",
       "      <td>0.037</td>\n",
       "      <td>mae</td>\n",
       "      <td>0.8</td>\n",
       "      <td>5</td>\n",
       "      <td>reg:linear</td>\n",
       "      <td>1</td>\n",
       "      <td>0.8</td>\n",
       "    </tr>\n",
       "  </tbody>\n",
       "</table>\n",
       "</div>"
      ],
      "text/plain": [
       "               ID  alpha  base_score    eta eval_metric  lambda max_depth  \\\n",
       "0  20170925003846    0.4    0.007345  0.037         mae     0.8         5   \n",
       "\n",
       "    objective silent  subsample  \n",
       "0  reg:linear      1        0.8  "
      ]
     },
     "execution_count": 190,
     "metadata": {},
     "output_type": "execute_result"
    }
   ],
   "source": [
    "pd.read_pickle(\"xgb_params_1_df.pkl\")"
   ]
  },
  {
   "cell_type": "code",
   "execution_count": 191,
   "metadata": {
    "collapsed": false
   },
   "outputs": [
    {
     "data": {
      "text/html": [
       "<div>\n",
       "<style>\n",
       "    .dataframe thead tr:only-child th {\n",
       "        text-align: right;\n",
       "    }\n",
       "\n",
       "    .dataframe thead th {\n",
       "        text-align: left;\n",
       "    }\n",
       "\n",
       "    .dataframe tbody tr th {\n",
       "        vertical-align: top;\n",
       "    }\n",
       "</style>\n",
       "<table border=\"1\" class=\"dataframe\">\n",
       "  <thead>\n",
       "    <tr style=\"text-align: right;\">\n",
       "      <th></th>\n",
       "      <th>ID</th>\n",
       "      <th>alpha</th>\n",
       "      <th>base_score</th>\n",
       "      <th>eta</th>\n",
       "      <th>eval_metric</th>\n",
       "      <th>lambda</th>\n",
       "      <th>max_depth</th>\n",
       "      <th>objective</th>\n",
       "      <th>silent</th>\n",
       "      <th>subsample</th>\n",
       "    </tr>\n",
       "  </thead>\n",
       "  <tbody>\n",
       "    <tr>\n",
       "      <th>0</th>\n",
       "      <td>20170925003846</td>\n",
       "      <td>0</td>\n",
       "      <td>0.007345</td>\n",
       "      <td>0.033</td>\n",
       "      <td>mae</td>\n",
       "      <td>1.0</td>\n",
       "      <td>6</td>\n",
       "      <td>reg:linear</td>\n",
       "      <td>1</td>\n",
       "      <td>0.8</td>\n",
       "    </tr>\n",
       "  </tbody>\n",
       "</table>\n",
       "</div>"
      ],
      "text/plain": [
       "               ID alpha  base_score    eta eval_metric  lambda max_depth  \\\n",
       "0  20170925003846     0    0.007345  0.033         mae     1.0         6   \n",
       "\n",
       "    objective silent  subsample  \n",
       "0  reg:linear      1        0.8  "
      ]
     },
     "execution_count": 191,
     "metadata": {},
     "output_type": "execute_result"
    }
   ],
   "source": [
    "pd.read_pickle(\"xgb_params_2_df.pkl\")"
   ]
  },
  {
   "cell_type": "code",
   "execution_count": null,
   "metadata": {
    "collapsed": true
   },
   "outputs": [],
   "source": []
  }
 ],
 "metadata": {
  "kernelspec": {
   "display_name": "Python 2",
   "language": "python",
   "name": "python2"
  },
  "language_info": {
   "codemirror_mode": {
    "name": "ipython",
    "version": 2
   },
   "file_extension": ".py",
   "mimetype": "text/x-python",
   "name": "python",
   "nbconvert_exporter": "python",
   "pygments_lexer": "ipython2",
   "version": "2.7.13"
  }
 },
 "nbformat": 4,
 "nbformat_minor": 0
}
