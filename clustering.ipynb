{
 "cells": [
  {
   "cell_type": "markdown",
   "metadata": {},
   "source": [
    "# Clustering to predict missing fields\n"
   ]
  },
  {
   "cell_type": "code",
   "execution_count": 1,
   "metadata": {
    "collapsed": false
   },
   "outputs": [],
   "source": [
    "import numpy as np # linear algebra\n",
    "import pandas as pd # data processing, CSV file I/O (e.g. pd.read_csv)\n",
    "import matplotlib.pyplot as plt\n",
    "import seaborn as sns\n",
    "color = sns.color_palette()\n",
    "from itertools import compress\n",
    "from sklearn.ensemble import ExtraTreesRegressor\n",
    "from scipy.stats import norm\n",
    "from scipy import spatial\n",
    "from collections import Counter\n",
    "import operator\n",
    "\n",
    "%matplotlib inline\n",
    "\n",
    "pd.options.mode.chained_assignment = None\n",
    "pd.options.display.max_columns = 999\n"
   ]
  },
  {
   "cell_type": "markdown",
   "metadata": {},
   "source": [
    "# Setting up the data"
   ]
  },
  {
   "cell_type": "code",
   "execution_count": 2,
   "metadata": {
    "collapsed": true
   },
   "outputs": [],
   "source": [
    "train_df = pd.read_pickle(\"C:\\\\Users\\\\lakshay\\\\Documents\\\\zes\\\\zestims\\\\data\\\\input\\\\train_df_full.pkl\")\n",
    "all_null_ixs = pd.isnull(train_df[\"longitude\"]).nonzero()[0]\n",
    "train_df = train_df.drop(all_null_ixs)"
   ]
  },
  {
   "cell_type": "markdown",
   "metadata": {},
   "source": [
    "# Using KDTree to find nearest neighbors and classify the fields"
   ]
  },
  {
   "cell_type": "code",
   "execution_count": 3,
   "metadata": {
    "collapsed": false
   },
   "outputs": [],
   "source": [
    "# Create Tree to be used for clustering applications\n",
    "tree = spatial.KDTree(zip(train_df[\"longitude\"].values,train_df[\"latitude\"].values))"
   ]
  },
  {
   "cell_type": "code",
   "execution_count": 7,
   "metadata": {
    "collapsed": false
   },
   "outputs": [],
   "source": [
    "# class to classify fields based on clustering\n",
    "# Classify region ids using nearest region center method\n",
    "\n",
    "class cluster(object):\n",
    "    \n",
    "    def __init__(self,feature,tree=tree):\n",
    "        self.feature = feature\n",
    "\n",
    "    def classify(self,x,df,k):\n",
    "        [m,n] = tree.query(x,k=k)\n",
    "        near_ids = df[self.feature].iloc[n].values\n",
    "        near_ids = near_ids[~pd.isnull(near_ids)]\n",
    "        c = Counter(near_ids)\n",
    "        try:\n",
    "            output = max(c.iteritems(),key=operator.itemgetter(1))[0]\n",
    "            #near_ids.tolist()\n",
    "            #a = [int(i) for i in near_ids]\n",
    "            #counts = np.bincount(a)\n",
    "            return output\n",
    "        except ValueError:\n",
    "            pass\n"
   ]
  },
  {
   "cell_type": "code",
   "execution_count": 18,
   "metadata": {
    "collapsed": false
   },
   "outputs": [
    {
     "name": "stdout",
     "output_type": "stream",
     "text": [
      "propertylandusetypeid\n",
      "propertylandusetypeid\n",
      "Number of NULL values at the start: 0\n",
      "propertylandusetypeid\n",
      "propertylandusetypeid\n",
      "Number of NULL values at the start: 0\n"
     ]
    }
   ],
   "source": [
    "# Features to be filled from clustering\n",
    "# regionidcity,regionidzip, regionidneighborhood already completed\n",
    "# propertyzoningdesc - too many - 1027113, nothing happens even after 3 iterations\n",
    "# propertycountylandusecode - 841 still missing\n",
    "# propertylandusetypeid is already completed\n",
    "\n",
    "f = (\"propertylandusetypeid\",\"propertylandusetypeid\")\n",
    "\n",
    "for feature in f:\n",
    "    print feature\n",
    "    print feature\n",
    "    f_cluster = cluster(feature)\n",
    "    train_df_feature = train_df[[feature,'longitude','latitude']]\n",
    "    tdf_feature_no_null = train_df_feature.dropna()\n",
    "    tdf_feature_all_null = train_df_feature[~train_df_feature.isin(tdf_feature_no_null).all(1)]\n",
    "    \n",
    "    iteration = [10,100,500,1000,1500,2000,2500,5000]\n",
    "    t = 0\n",
    "    print(\"Number of NULL values at the start: %g\" %train_df_feature[feature].isnull().sum(axis=0))\n",
    "    while train_df_feature[feature].isnull().sum(axis=0) > 0:\n",
    "        for j in list(tdf_feature_all_null.index.values):\n",
    "            x = np.array([train_df_feature.loc[j][\"longitude\"],train_df_feature.loc[j][\"latitude\"]])\n",
    "            train_df_feature.loc[j][feature] = f_cluster.classify(x,train_df_feature,iteration[t])\n",
    "\n",
    "        # Update dataframes \n",
    "        tdf_feature_no_null = train_df_feature.dropna()\n",
    "        tdf_feature_all_null = train_df_feature[~train_df_feature.isin(tdf_feature_no_null).all(1)]\n",
    "        print train_df_feature[feature].isnull().sum(axis=0)     \n",
    "        t += 1\n",
    "        \n",
    "    train_df_feature.to_pickle(\"C:\\\\Users\\\\lakshay\\\\Documents\\\\zes\\\\zestims\\\\data\\\\input\\\\train_df_\"+ \\\n",
    "                               feature+\"_completed_all_data.pkl\")\n"
   ]
  },
  {
   "cell_type": "code",
   "execution_count": 11,
   "metadata": {
    "collapsed": true
   },
   "outputs": [],
   "source": [
    "del f"
   ]
  },
  {
   "cell_type": "code",
   "execution_count": 19,
   "metadata": {
    "collapsed": false
   },
   "outputs": [
    {
     "data": {
      "text/plain": [
       "propertylandusetypeid    0\n",
       "longitude                0\n",
       "latitude                 0\n",
       "dtype: int64"
      ]
     },
     "execution_count": 19,
     "metadata": {},
     "output_type": "execute_result"
    }
   ],
   "source": [
    "train_df_feature.isnull().sum(axis=0)"
   ]
  },
  {
   "cell_type": "code",
   "execution_count": 4,
   "metadata": {
    "collapsed": false
   },
   "outputs": [
    {
     "data": {
      "text/plain": [
       "array(['parcelid', 'logerror', 'transactiondate', 'airconditioningtypeid',\n",
       "       'architecturalstyletypeid', 'basementsqft', 'bathroomcnt',\n",
       "       'bedroomcnt', 'buildingclasstypeid', 'buildingqualitytypeid',\n",
       "       'calculatedbathnbr', 'decktypeid', 'finishedfloor1squarefeet',\n",
       "       'calculatedfinishedsquarefeet', 'finishedsquarefeet12',\n",
       "       'finishedsquarefeet13', 'finishedsquarefeet15',\n",
       "       'finishedsquarefeet50', 'finishedsquarefeet6', 'fips',\n",
       "       'fireplacecnt', 'fullbathcnt', 'garagecarcnt', 'garagetotalsqft',\n",
       "       'hashottuborspa', 'heatingorsystemtypeid', 'latitude', 'longitude',\n",
       "       'lotsizesquarefeet', 'poolcnt', 'poolsizesum', 'pooltypeid10',\n",
       "       'pooltypeid2', 'pooltypeid7', 'propertycountylandusecode',\n",
       "       'propertylandusetypeid', 'propertyzoningdesc',\n",
       "       'rawcensustractandblock', 'regionidcity', 'regionidcounty',\n",
       "       'regionidneighborhood', 'regionidzip', 'roomcnt', 'storytypeid',\n",
       "       'threequarterbathnbr', 'typeconstructiontypeid', 'unitcnt',\n",
       "       'yardbuildingsqft17', 'yardbuildingsqft26', 'yearbuilt',\n",
       "       'numberofstories', 'fireplaceflag', 'structuretaxvaluedollarcnt',\n",
       "       'taxvaluedollarcnt', 'assessmentyear', 'landtaxvaluedollarcnt',\n",
       "       'taxamount', 'taxdelinquencyflag', 'taxdelinquencyyear',\n",
       "       'censustractandblock'], dtype=object)"
      ]
     },
     "execution_count": 4,
     "metadata": {},
     "output_type": "execute_result"
    }
   ],
   "source": [
    "train_df.columns.values"
   ]
  },
  {
   "cell_type": "code",
   "execution_count": null,
   "metadata": {
    "collapsed": true
   },
   "outputs": [],
   "source": []
  }
 ],
 "metadata": {
  "kernelspec": {
   "display_name": "Python 2",
   "language": "python",
   "name": "python2"
  },
  "language_info": {
   "codemirror_mode": {
    "name": "ipython",
    "version": 2
   },
   "file_extension": ".py",
   "mimetype": "text/x-python",
   "name": "python",
   "nbconvert_exporter": "python",
   "pygments_lexer": "ipython2",
   "version": "2.7.13"
  }
 },
 "nbformat": 4,
 "nbformat_minor": 0
}
