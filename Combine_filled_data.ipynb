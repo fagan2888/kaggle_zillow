{
 "cells": [
  {
   "cell_type": "markdown",
   "metadata": {},
   "source": [
    "# Combine filled data"
   ]
  },
  {
   "cell_type": "code",
   "execution_count": 1,
   "metadata": {
    "collapsed": true
   },
   "outputs": [],
   "source": [
    "import pandas as pd\n",
    "import numpy as np\n"
   ]
  },
  {
   "cell_type": "markdown",
   "metadata": {},
   "source": [
    "Read base training df"
   ]
  },
  {
   "cell_type": "code",
   "execution_count": 18,
   "metadata": {
    "collapsed": true
   },
   "outputs": [],
   "source": [
    "train_df = pd.read_pickle(\"C:\\\\Users\\\\lakshay\\\\Documents\\\\zes\\\\zestims\\\\data\\\\input\\\\train_df_full.pkl\")\n",
    "all_null_ixs = pd.isnull(train_df[\"longitude\"]).nonzero()[0]\n",
    "train_df = train_df.drop(all_null_ixs)"
   ]
  },
  {
   "cell_type": "markdown",
   "metadata": {},
   "source": [
    "Read filled datasets"
   ]
  },
  {
   "cell_type": "code",
   "execution_count": 5,
   "metadata": {
    "collapsed": false
   },
   "outputs": [],
   "source": [
    "path = \"C:\\\\Users\\\\lakshay\\\\Documents\\\\zes\\\\zestims\\\\data\\\\input\\\\\"\n",
    "\n",
    "train_df_propertylandusetypeid =  pd.read_pickle(path + \"train_df_propertylandusetypeid_completed_all_data.pkl\")\n",
    "                                      \n",
    "train_df_propertycountylandusecode =  pd.read_pickle(path + \"train_df_propertycountylandusecode_841_still_missing.pkl\")\n",
    "               \n",
    "train_df_regionidneighborhood = pd.read_pickle(path + \"train_df_regionidneighborhood_completed_all_data.pkl\")\n",
    "               \n",
    "train_df_regionidzip = pd.read_pickle(path + \"train_df_regionidzip_completed_all_data.pkl\")\n",
    "               \n",
    "train_df_regionidcity = pd.read_pickle(path + \"train_df_regionidcity_completed_all_data.pkl\")"
   ]
  },
  {
   "cell_type": "code",
   "execution_count": 22,
   "metadata": {
    "collapsed": false
   },
   "outputs": [],
   "source": [
    "train_df[\"regionidzip\"] = train_df_regionidzip[\"regionidzip\"]\n",
    "train_df[\"propertycountylandusecode\"] = train_df_propertycountylandusecode[\"propertycountylandusecode\"]\n",
    "train_df[\"regionidneighborhood\"] = train_df_regionidneighborhood[\"regionidneighborhood\"]\n",
    "train_df[\"regionidcity\"] = train_df_regionidcity[\"regionidcity\"]\n",
    "train_df[\"propertylandusetypeid\"] = train_df_propertylandusetypeid[\"propertylandusetypeid\"]"
   ]
  },
  {
   "cell_type": "code",
   "execution_count": 25,
   "metadata": {
    "collapsed": false
   },
   "outputs": [],
   "source": [
    "train_df.to_pickle(path + \"train_df_partial_filled.pkl\")\n",
    "train_df.to_csv(path + \"train_df_partial_filled.csv\")"
   ]
  },
  {
   "cell_type": "code",
   "execution_count": 27,
   "metadata": {
    "collapsed": false
   },
   "outputs": [
    {
     "data": {
      "text/plain": [
       "parcelid                              0\n",
       "logerror                              0\n",
       "transactiondate                       0\n",
       "airconditioningtypeid           2223755\n",
       "architecturalstyletypeid        3057733\n",
       "basementsqft                    3062384\n",
       "bathroomcnt                          25\n",
       "bedroomcnt                           13\n",
       "buildingclasstypeid             3051410\n",
       "buildingqualitytypeid           1068203\n",
       "calculatedbathnbr                118657\n",
       "decktypeid                      3046301\n",
       "finishedfloor1squarefeet        2854482\n",
       "calculatedfinishedsquarefeet      44789\n",
       "finishedsquarefeet12             269275\n",
       "finishedsquarefeet13            3056350\n",
       "finishedsquarefeet15            2869693\n",
       "finishedsquarefeet50            2854482\n",
       "finishedsquarefeet6             3041633\n",
       "fips                                  0\n",
       "fireplacecnt                    2741811\n",
       "fullbathcnt                      118657\n",
       "garagecarcnt                    2150851\n",
       "garagetotalsqft                 2150851\n",
       "hashottuborspa                  2992676\n",
       "heatingorsystemtypeid           1201574\n",
       "latitude                              0\n",
       "longitude                             0\n",
       "lotsizesquarefeet                274812\n",
       "poolcnt                         2528620\n",
       "poolsizesum                     3035126\n",
       "pooltypeid10                    3025955\n",
       "pooltypeid2                     3030776\n",
       "pooltypeid7                     2561899\n",
       "propertycountylandusecode           841\n",
       "propertylandusetypeid                 0\n",
       "propertyzoningdesc              1027113\n",
       "rawcensustractandblock                0\n",
       "regionidcity                          0\n",
       "regionidcounty                        0\n",
       "regionidneighborhood                  0\n",
       "regionidzip                           0\n",
       "roomcnt                              38\n",
       "storytypeid                     3062388\n",
       "threequarterbathnbr             2740415\n",
       "typeconstructiontypeid          3057009\n",
       "unitcnt                         1028212\n",
       "yardbuildingsqft17              2981054\n",
       "yardbuildingsqft26              3061313\n",
       "yearbuilt                         49247\n",
       "numberofstories                 2361416\n",
       "fireplaceflag                   3058670\n",
       "structuretaxvaluedollarcnt        43925\n",
       "taxvaluedollarcnt                 31114\n",
       "assessmentyear                        2\n",
       "landtaxvaluedollarcnt             56297\n",
       "taxamount                         19819\n",
       "taxdelinquencyflag              3005810\n",
       "taxdelinquencyyear              3005808\n",
       "censustractandblock               64294\n",
       "dtype: int64"
      ]
     },
     "execution_count": 27,
     "metadata": {},
     "output_type": "execute_result"
    }
   ],
   "source": [
    "train_df.isnull().sum(axis=0)"
   ]
  },
  {
   "cell_type": "code",
   "execution_count": null,
   "metadata": {
    "collapsed": true
   },
   "outputs": [],
   "source": []
  }
 ],
 "metadata": {
  "kernelspec": {
   "display_name": "Python 2",
   "language": "python",
   "name": "python2"
  },
  "language_info": {
   "codemirror_mode": {
    "name": "ipython",
    "version": 2
   },
   "file_extension": ".py",
   "mimetype": "text/x-python",
   "name": "python",
   "nbconvert_exporter": "python",
   "pygments_lexer": "ipython2",
   "version": "2.7.13"
  }
 },
 "nbformat": 4,
 "nbformat_minor": 0
}
