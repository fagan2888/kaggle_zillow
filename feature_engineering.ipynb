{
 "cells": [
  {
   "cell_type": "code",
   "execution_count": 178,
   "metadata": {
    "collapsed": true
   },
   "outputs": [],
   "source": [
    "%matplotlib inline  \n",
    "\n",
    "import pandas\n",
    "import numpy as np"
   ]
  },
  {
   "cell_type": "code",
   "execution_count": 179,
   "metadata": {
    "collapsed": false
   },
   "outputs": [],
   "source": [
    "initial_frame = pandas.read_pickle(\"full_df_v2.pkl\")"
   ]
  },
  {
   "cell_type": "code",
   "execution_count": 180,
   "metadata": {
    "collapsed": false
   },
   "outputs": [],
   "source": [
    "area = ['garagetotalsqft', 'lotsizesquarefeet', 'poolsizesum', 'yardbuildingsqft17', 'yardbuildingsqft26']"
   ]
  },
  {
   "cell_type": "code",
   "execution_count": 181,
   "metadata": {
    "collapsed": false
   },
   "outputs": [],
   "source": [
    "# Apply log to area\n",
    "for label in area:\n",
    "    initial_frame[label] = np.log(1 + initial_frame[label])"
   ]
  },
  {
   "cell_type": "code",
   "execution_count": 182,
   "metadata": {
    "collapsed": true
   },
   "outputs": [],
   "source": [
    "# FIPS convert to int and subtract 6000 because all values are of same state\n",
    "initial_frame['fips'] = initial_frame['fips'].astype(int) - 6000"
   ]
  },
  {
   "cell_type": "code",
   "execution_count": 183,
   "metadata": {
    "collapsed": true
   },
   "outputs": [],
   "source": [
    "# Delete rawcensusandtractblock because it is identical to censustractandblock\n",
    "del initial_frame['rawcensustractandblock']"
   ]
  },
  {
   "cell_type": "code",
   "execution_count": 184,
   "metadata": {
    "collapsed": true
   },
   "outputs": [],
   "source": [
    "# Take ratio with total living area\n",
    "ratio_with_area = ['basementsqft', 'finishedfloor1squarefeet', 'calculatedfinishedsquarefeet', 'finishedsquarefeet6', 'finishedsquarefeet13', 'finishedsquarefeet50', 'garagetotalsqft']\n",
    "\n",
    "for label in ratio_with_area:\n",
    "    initial_frame[label] = initial_frame[label]/initial_frame['finishedsquarefeet12']\n",
    "    "
   ]
  },
  {
   "cell_type": "code",
   "execution_count": 185,
   "metadata": {
    "collapsed": true
   },
   "outputs": [],
   "source": [
    "# Take ratio with number of bedrooms\n",
    "ratio_with_bedroomcnt = ['bathroomcnt', 'calculatedbathnbr', 'threequarterbathnbr', 'fullbathcnt']\n",
    "\n",
    "for label in ratio_with_bedroomcnt:\n",
    "    initial_frame[label] = initial_frame[label]/initial_frame['bedroomcnt']"
   ]
  },
  {
   "cell_type": "code",
   "execution_count": 186,
   "metadata": {
    "collapsed": false
   },
   "outputs": [],
   "source": [
    "# Make longitude positive\n",
    "initial_frame['longitude'] = initial_frame['longitude'].astype(int) + 120000000"
   ]
  },
  {
   "cell_type": "code",
   "execution_count": 187,
   "metadata": {
    "collapsed": false
   },
   "outputs": [],
   "source": [
    "# Scale latitude\n",
    "initial_frame['latitude'] = initial_frame['latitude'].astype(int) - 30000000"
   ]
  },
  {
   "cell_type": "code",
   "execution_count": 188,
   "metadata": {
    "collapsed": false
   },
   "outputs": [],
   "source": [
    "min_lat = initial_frame.latitude.min()\n",
    "max_lat = initial_frame.latitude.max()\n",
    "min_long = initial_frame.longitude.min()\n",
    "max_long = initial_frame.longitude.max()\n",
    "\n",
    "lat_res = (max_lat - min_lat)/1000\n",
    "long_res = (max_long - min_long)/1000\n",
    "\n",
    "initial_frame = initial_frame.assign(geo_id = lambda x: (x.longitude/long_res) * lat_res + (x.latitude/lat_res)) "
   ]
  },
  {
   "cell_type": "code",
   "execution_count": 189,
   "metadata": {
    "collapsed": false
   },
   "outputs": [
    {
     "data": {
      "text/plain": [
       "array([[<matplotlib.axes._subplots.AxesSubplot object at 0x7f0065a50d50>]], dtype=object)"
      ]
     },
     "execution_count": 189,
     "metadata": {},
     "output_type": "execute_result"
    },
    {
     "data": {
      "image/png": "[encoded data removed]",
      "text/plain": [
       "<matplotlib.figure.Figure at 0x7f0071d74e50>"
      ]
     },
     "metadata": {},
     "output_type": "display_data"
    }
   ],
   "source": [
    "initial_frame.hist(column='geo_id')"
   ]
  },
  {
   "cell_type": "code",
   "execution_count": 190,
   "metadata": {
    "collapsed": true
   },
   "outputs": [],
   "source": [
    "initial_frame.to_pickle('df_engineered.pkl')"
   ]
  },
  {
   "cell_type": "code",
   "execution_count": null,
   "metadata": {
    "collapsed": true
   },
   "outputs": [],
   "source": []
  }
 ],
 "metadata": {
  "kernelspec": {
   "display_name": "Python 2",
   "language": "python",
   "name": "python2"
  },
  "language_info": {
   "codemirror_mode": {
    "name": "ipython",
    "version": 2
   },
   "file_extension": ".py",
   "mimetype": "text/x-python",
   "name": "python",
   "nbconvert_exporter": "python",
   "pygments_lexer": "ipython2",
   "version": "2.7.13"
  }
 },
 "nbformat": 4,
 "nbformat_minor": 2
}
